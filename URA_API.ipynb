{
 "cells": [
  {
   "cell_type": "markdown",
   "metadata": {},
   "source": [
    "## Singapore Private Property \n",
    "This set of python codes serve to download past 5 years' of URA private property transactions from URA API for purpose of providing a basis for further data analysis.\n",
    "\n",
    "The raw data will undergo basic cleaning and then saved into csv file for archival (because URA will continuously remove data older than 5 years old)."
   ]
  },
  {
   "cell_type": "code",
   "execution_count": 1,
   "metadata": {},
   "outputs": [],
   "source": [
    "import pandas as pd\n",
    "import requests\n",
    "from collections import Counter\n",
    "import datetime as dt\n",
    "import re\n",
    "import matplotlib.pyplot as plt"
   ]
  },
  {
   "cell_type": "code",
   "execution_count": 2,
   "metadata": {},
   "outputs": [],
   "source": [
    "#token given by URA\n",
    "ura_access_key = 'd8722f05-25ff-44f6-bb6f-5d728aa4c9b1'\n",
    "\n",
    "#getting the token for the day\n",
    "r = requests.get(\"https://www.ura.gov.sg/uraDataService/insertNewToken.action\", headers={\"AccessKey\":ura_access_key})\n",
    "token = r.json()['Result']"
   ]
  },
  {
   "cell_type": "code",
   "execution_count": null,
   "metadata": {},
   "outputs": [
    {
     "name": "stdout",
     "output_type": "stream",
     "text": [
      "Batch 1 completed\n",
      "Batch 2 completed\n",
      "Batch 3 completed\n"
     ]
    }
   ],
   "source": [
    "#accessing the data in 4 batches as required by URA API\n",
    "for i in range(1,5):\n",
    "    #requesting data by passing in access key and token, in 4 batches as stated in URA API website\n",
    "    req = requests.get('https://www.ura.gov.sg/uraDataService/invokeUraDS?service=PMI_Resi_Transaction&batch=' + str(i),\n",
    "                      headers={\"AccessKey\":ura_access_key, \"Token\":token})\n",
    "    \n",
    "    df_temp = pd.json_normalize(req.json()['Result'], 'transaction', ['street','x','y','project'],errors='ignore')\n",
    "\n",
    "    #adding each batch to DataFrame\n",
    "    if i==1:\n",
    "        df = df_temp\n",
    "    else:\n",
    "        df = df.append(df_temp, ignore_index=True) #ignore index so that append can be done\n",
    "    \n",
    "    #printing the progress for monitoring\n",
    "    print('Batch ' + str(i) + ' completed')"
   ]
  },
  {
   "cell_type": "code",
   "execution_count": null,
   "metadata": {},
   "outputs": [],
   "source": [
    "df.info()"
   ]
  },
  {
   "cell_type": "code",
   "execution_count": null,
   "metadata": {},
   "outputs": [],
   "source": [
    "#saving raw data to local drive\n",
    "this_year = dt.date.today().year\n",
    "this_month = dt.date.today().month\n",
    "\n",
    "df.to_csv(\"ura_caveats downloaded year \" + str(this_year) + ' month ' + str(this_month) + \" raw data.csv\")"
   ]
  },
  {
   "cell_type": "code",
   "execution_count": null,
   "metadata": {},
   "outputs": [],
   "source": [
    "#making copy of df\n",
    "df1 = df.copy()\n",
    "\n",
    "#performing basic tidying up\n",
    "\n",
    "#nett price is final selling price, hence will replace price if nettprice is not null\n",
    "df1.loc[df1['nettPrice'].notnull(),'price'] = df1.loc[df1['nettPrice'].notnull(),'nettPrice']\n",
    "\n",
    "#remove nettprice and geo-coordinates\n",
    "df1 = df1.drop(['nettPrice','x','y'],axis=1)\n",
    "\n",
    "#convert area to sq feet, and type float\n",
    "df1.area = df1.area.astype('float') * 10.76\n",
    "\n",
    "#forcing to numeric before changing to int type\n",
    "df1.price = pd.to_numeric(df1.price, errors='coerce').astype('int')\n",
    "\n",
    "#create new column to hold calculated psf price\n",
    "df1['Unit Price psf'] = (df1['price']/df1['area']).astype('int')\n",
    "\n",
    "#parsing the contract date to proper pandas datetime format\n",
    "df1.contractDate = pd.to_datetime(df1.contractDate, format='%m%y').dt.to_period('M')"
   ]
  },
  {
   "cell_type": "code",
   "execution_count": null,
   "metadata": {},
   "outputs": [],
   "source": [
    "#checking out the tenure column and find a way standardize data\n",
    "print(Counter(df1.tenure))"
   ]
  },
  {
   "cell_type": "code",
   "execution_count": null,
   "metadata": {},
   "outputs": [],
   "source": [
    "for i in range(df1.shape[0]):\n",
    "    if (df1.loc[i,'tenure'] == 'NA'):\n",
    "        #set data where tenure is NA to 999 years\n",
    "        df1.loc[i,'lease left'] = 999\n",
    "    elif (df1.loc[i,'tenure'][2] == ' ') & (df1.loc[i,'tenure'][-4:]=='hold'):\n",
    "        #set data where tenure is 99 years but without start year to 99\n",
    "        df1.loc[i,'lease left'] = 99\n",
    "    elif (df1.loc[i,'tenure'][0] == '1'):\n",
    "        df1.loc[i,'lease left'] = int(df1.loc[i,'tenure'][0:3]) - this_year + int(df1.loc[i,'tenure'][-4:])\n",
    "    elif df1.loc[i,'tenure'][2] == ' ':\n",
    "        df1.loc[i,'lease left'] = int(df1.loc[i,'tenure'][0:2]) - this_year + int(df1.loc[i,'tenure'][-4:])\n",
    "    else:\n",
    "        df1.loc[i,'lease left'] = 999"
   ]
  },
  {
   "cell_type": "code",
   "execution_count": null,
   "metadata": {},
   "outputs": [],
   "source": [
    "#checking the rest of the columns to make sure there is no unusual entries\n",
    "print(Counter(df1.typeOfSale))\n",
    "print(Counter(df1.propertyType))\n",
    "print(Counter(df1.district))\n",
    "print(Counter(df1.typeOfArea))"
   ]
  },
  {
   "cell_type": "code",
   "execution_count": null,
   "metadata": {},
   "outputs": [],
   "source": [
    "#Splitting into 2 dataframes: landed transactions and non-landed property transactions\n",
    "\n",
    "df_non_landed = df1[df1.propertyType.isin(['Condominium','Apartment','Executive Condominium'])]\n",
    "df_landed = df1[df1.propertyType.isin(['Terrace','Semi-detached','Detached','Strata Terrace',\n",
    "                                       'Strata Semi-detached','Strata Detached'])]"
   ]
  },
  {
   "cell_type": "code",
   "execution_count": null,
   "metadata": {},
   "outputs": [],
   "source": [
    "#remove floorRange column of landed because it is not relevant\n",
    "df_landed = df_landed.drop(['floorRange'],axis=1)"
   ]
  },
  {
   "cell_type": "code",
   "execution_count": null,
   "metadata": {},
   "outputs": [],
   "source": [
    "#checking for errors in floorRange column\n",
    "print(df_non_landed.floorRange.value_counts())\n",
    "\n",
    "#amend the floorRange error in original URA data \n",
    "df_non_landed.loc[df_non_landed['floorRange']=='B1-B5','floorRange'] = '01-05'\n",
    "df_non_landed.loc[df_non_landed['floorRange']=='-','floorRange'] = '01-05'"
   ]
  },
  {
   "cell_type": "code",
   "execution_count": null,
   "metadata": {},
   "outputs": [],
   "source": [
    "#convert data types of various columns\n",
    "df_non_landed = df_non_landed.astype({'area':'int32','noOfUnits':'int32','floorRange':'category',\n",
    "                                      'typeOfSale':'category','propertyType':'category',\n",
    "                                      'district':'category','typeOfArea':'category','tenure':'str'})\n",
    "\n",
    "df_landed = df_landed.astype({'area':'int32','noOfUnits':'int32','typeOfSale':'category','propertyType':'category',\n",
    "                              'district':'category','typeOfArea':'category','tenure':'str'})"
   ]
  },
  {
   "cell_type": "code",
   "execution_count": null,
   "metadata": {},
   "outputs": [],
   "source": [
    "#finding out the en-bloc sales data\n",
    "display(df_non_landed[df_non_landed.noOfUnits>1].sort_values('noOfUnits'))\n",
    "\n",
    "#further splitting the en-bloc non-landed transactions from the non-landed dataframe\n",
    "#enbloc deals are picked up by dual conditions of large deal value of more than $20mil and >1 unit per transaction.\n",
    "#this is not a perfect method but is able to pick up all enbloc deals while minimizing non-enbloc transactions\n",
    "\n",
    "df_enbloc = df_non_landed[(df_non_landed.noOfUnits>1) & (df_non_landed.price>20000000)]\n",
    "df_non_landed = df_non_landed[(df_non_landed.noOfUnits<=10) & (df_non_landed.price<=20000000)]\n",
    "\n",
    "#convert data types of various columns\n",
    "df_enbloc = df_enbloc.astype({'area':'int32','noOfUnits':'int32','floorRange':'category',\n",
    "                              'typeOfSale':'category','propertyType':'category','district':'category',\n",
    "                              'typeOfArea':'category','tenure':'str'})"
   ]
  },
  {
   "cell_type": "code",
   "execution_count": null,
   "metadata": {},
   "outputs": [],
   "source": [
    "Price_change_floor = df_non_landed.groupby('floorRange')['Unit Price psf'].mean().pct_change()*100\n",
    "Price_change_floor.plot(kind='bar')\n",
    "_ = plt.ylabel(\"Percent change in price compared to lower floor range\")"
   ]
  },
  {
   "cell_type": "code",
   "execution_count": null,
   "metadata": {},
   "outputs": [],
   "source": [
    "diff = df_non_landed.loc[df_non_landed.propertyType=='Apartment','Unit Price psf'].mean() - df_non_landed.loc[df_non_landed.propertyType=='Condominium','Unit Price psf'].mean()\n",
    "print(diff)"
   ]
  },
  {
   "cell_type": "code",
   "execution_count": null,
   "metadata": {},
   "outputs": [],
   "source": [
    "df_non_landed.groupby('district')['Unit Price psf'].mean().sort_values()"
   ]
  },
  {
   "cell_type": "code",
   "execution_count": null,
   "metadata": {},
   "outputs": [],
   "source": [
    "df_landed.groupby('district')['Unit Price psf'].mean().sort_values()"
   ]
  },
  {
   "cell_type": "code",
   "execution_count": null,
   "metadata": {},
   "outputs": [],
   "source": [
    "#saving the cleaned data into csv\n",
    "df_non_landed.to_csv(\"Non-landed transactions downloaded and cleaned on year \" + str(this_year) + \" month \" + str(this_month) + \".csv\")\n",
    "df_landed.to_csv(\"landed transactions downloaded and cleaned on year \" + str(this_year) + \" month \" + str(this_month) + \".csv\")\n",
    "df_enbloc.to_csv(\"enbloc transactions downloaded and cleaned on year \" + str(this_year) + \" month \" + str(this_month) + \".csv\")"
   ]
  },
  {
   "cell_type": "code",
   "execution_count": null,
   "metadata": {},
   "outputs": [],
   "source": [
    "#Analysis of single condo project\n",
    "condo = 'CARIBBEAN'\n",
    "df_condo = df_non_landed[df_non_landed['project'].str.contains(condo)]\n",
    "df_condo.groupby('floorRange')['Unit Price psf'].mean()"
   ]
  }
 ],
 "metadata": {
  "kernelspec": {
   "display_name": "Python 3",
   "language": "python",
   "name": "python3"
  },
  "language_info": {
   "codemirror_mode": {
    "name": "ipython",
    "version": 3
   },
   "file_extension": ".py",
   "mimetype": "text/x-python",
   "name": "python",
   "nbconvert_exporter": "python",
   "pygments_lexer": "ipython3",
   "version": "3.8.3"
  }
 },
 "nbformat": 4,
 "nbformat_minor": 4
}
