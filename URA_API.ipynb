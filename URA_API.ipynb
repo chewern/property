{
 "cells": [
  {
   "cell_type": "markdown",
   "metadata": {},
   "source": [
    "## Singapore Private Property \n",
    "This set of python codes serve to download past 5 years' of URA private property transactions from URA API for purpose of providing a basis for further data analysis.\n",
    "\n",
    "The raw data will undergo basic cleaning and then saved into csv file for archival (because URA will continuously remove data older than 5 years old)."
   ]
  },
  {
   "cell_type": "code",
   "execution_count": 1,
   "metadata": {},
   "outputs": [],
   "source": [
    "import pandas as pd\n",
    "import requests\n",
    "from collections import Counter\n",
    "import datetime as dt\n",
    "import re"
   ]
  },
  {
   "cell_type": "code",
   "execution_count": 2,
   "metadata": {},
   "outputs": [],
   "source": [
    "#token given by URA\n",
    "ura_access_key = 'd8722f05-25ff-44f6-bb6f-5d728aa4c9b1'\n",
    "\n",
    "#getting the token for the day\n",
    "r = requests.get(\"https://www.ura.gov.sg/uraDataService/insertNewToken.action\", headers={\"AccessKey\":ura_access_key})\n",
    "token = r.json()['Result']"
   ]
  },
  {
   "cell_type": "code",
   "execution_count": 3,
   "metadata": {},
   "outputs": [
    {
     "name": "stdout",
     "output_type": "stream",
     "text": [
      "Batch 1 completed\n",
      "Batch 2 completed\n",
      "Batch 3 completed\n",
      "Batch 4 completed\n"
     ]
    }
   ],
   "source": [
    "#accessing the data in 4 batches as required by URA API\n",
    "for i in range(1,5):\n",
    "    #requesting data by passing in access key and token, in 4 batches as stated in URA API website\n",
    "    req = requests.get('https://www.ura.gov.sg/uraDataService/invokeUraDS?service=PMI_Resi_Transaction&batch=' + str(i),\n",
    "                      headers={\"AccessKey\":ura_access_key, \"Token\":token})\n",
    "    \n",
    "    df_temp = pd.json_normalize(req.json()['Result'], 'transaction', ['street','x','y','project'],errors='ignore')\n",
    "\n",
    "    #adding each batch to DataFrame\n",
    "    if i==1:\n",
    "        df = df_temp\n",
    "    else:\n",
    "        df = df.append(df_temp, ignore_index=True) #ignore index so that append can be done\n",
    "    \n",
    "    #printing the progress for monitoring\n",
    "    print('Batch ' + str(i) + ' completed')"
   ]
  },
  {
   "cell_type": "code",
   "execution_count": 22,
   "metadata": {},
   "outputs": [
    {
     "name": "stdout",
     "output_type": "stream",
     "text": [
      "<class 'pandas.core.frame.DataFrame'>\n",
      "RangeIndex: 113032 entries, 0 to 113031\n",
      "Data columns (total 15 columns):\n",
      " #   Column        Non-Null Count   Dtype \n",
      "---  ------        --------------   ----- \n",
      " 0   area          113032 non-null  object\n",
      " 1   floorRange    113032 non-null  object\n",
      " 2   noOfUnits     113032 non-null  object\n",
      " 3   contractDate  113032 non-null  object\n",
      " 4   typeOfSale    113032 non-null  object\n",
      " 5   price         113032 non-null  object\n",
      " 6   propertyType  113032 non-null  object\n",
      " 7   district      113032 non-null  object\n",
      " 8   typeOfArea    113032 non-null  object\n",
      " 9   tenure        113032 non-null  object\n",
      " 10  nettPrice     1137 non-null    object\n",
      " 11  street        113032 non-null  object\n",
      " 12  x             88177 non-null   object\n",
      " 13  y             88177 non-null   object\n",
      " 14  project       113032 non-null  object\n",
      "dtypes: object(15)\n",
      "memory usage: 12.9+ MB\n"
     ]
    }
   ],
   "source": [
    "df.info()"
   ]
  },
  {
   "cell_type": "code",
   "execution_count": 23,
   "metadata": {},
   "outputs": [],
   "source": [
    "#saving raw data to local drive\n",
    "this_year = dt.date.today().year\n",
    "this_month = dt.date.today().month\n",
    "\n",
    "df.to_csv(\"ura_caveats downloaded year \" + str(this_year) + ' month ' + str(this_month) + \" raw data.csv\")"
   ]
  },
  {
   "cell_type": "code",
   "execution_count": 24,
   "metadata": {},
   "outputs": [],
   "source": [
    "#making copy of df\n",
    "df1 = df.copy()\n",
    "\n",
    "#performing basic tidying up\n",
    "\n",
    "#nett price is final selling price, hence will replace price if nettprice is not null\n",
    "df1.loc[df1['nettPrice'].notnull(),'price'] = df1.loc[df1['nettPrice'].notnull(),'nettPrice']\n",
    "\n",
    "#remove nettprice and geo-coordinates\n",
    "df1 = df1.drop(['nettPrice','x','y'],axis=1)\n",
    "\n",
    "#convert area to sq feet, and type float\n",
    "df1.area = df1.area.astype('float') * 10.76\n",
    "\n",
    "#forcing to numeric before changing to int type\n",
    "df1.price = pd.to_numeric(df1.price, errors='coerce').astype('int')\n",
    "\n",
    "#create new column to hold calculated psf price\n",
    "df1['Unit Price psf'] = (df1['price']/df1['area']).astype('int')\n",
    "\n",
    "#parsing the contract date to proper pandas datetime format\n",
    "df1.contractDate = pd.to_datetime(df1.contractDate, format='%m%y').dt.to_period('M')"
   ]
  },
  {
   "cell_type": "code",
   "execution_count": 25,
   "metadata": {},
   "outputs": [
    {
     "name": "stdout",
     "output_type": "stream",
     "text": [
      "Counter({'Freehold': 32006, '99 yrs lease commencing from 2018': 12172, '99 yrs lease commencing from 2014': 8865, '99 yrs lease commencing from 2015': 7423, '99 yrs lease commencing from 2016': 5990, '99 yrs lease commencing from 2013': 5341, '99 yrs lease commencing from 2017': 4789, '99 yrs lease commencing from 2011': 4007, '99 yrs lease commencing from 2012': 3697, '99 yrs lease commencing from 2010': 3214, '99 yrs lease commencing from 2019': 2432, '99 yrs lease commencing from 1997': 2306, '99 yrs lease commencing from 2008': 1743, '99 yrs lease commencing from 1996': 1499, '99 yrs lease commencing from 1995': 1263, '99 yrs lease commencing from 2000': 1162, '99 yrs lease commencing from 2007': 1118, '99 yrs lease commencing from 2006': 959, '99 yrs lease commencing from 1994': 925, '99 yrs lease commencing from 2002': 811, '99 yrs lease commencing from 2001': 794, '99 yrs lease commencing from 1993': 739, '99 yrs lease commencing from 2009': 722, '99 yrs lease commencing from 1998': 615, '99 yrs lease commencing from 2004': 611, '99 yrs lease commencing from 1991': 580, '999 yrs lease commencing from 1885': 546, '999 yrs lease commencing from 1879': 472, '99 yrs lease commencing from 2005': 454, '99 yrs lease commencing from 1982': 446, '999 yrs lease commencing from 1877': 444, '999 yrs lease commencing from 1882': 338, '99 yrs lease commencing from 1999': 333, '956 yrs lease commencing from 1928': 252, '999 yrs lease commencing from 1883': 252, '99 yrs lease commencing from 1992': 248, '999 yrs lease commencing from 1876': 227, '999 yrs lease commencing from 1841': 202, '999 yrs lease commencing from 1875': 192, '999 yrs lease commencing from 1878': 182, '99 yrs lease commencing from 2003': 166, '99 yrs lease commencing from 1975': 161, '999 yrs lease commencing from 1886': 142, '999 yrs lease commencing from 1955': 136, '99 yrs lease commencing from 1977': 135, '999 yrs lease commencing from 1954': 122, '99 yrs lease commencing from 1976': 107, '99 yrs lease commencing from 1979': 99, '103 yrs lease commencing from 2009': 98, '60 yrs lease commencing from 2013': 76, '99 yrs lease commencing from 1968': 71, '999 yrs lease commencing from 1956': 70, '99 yrs lease commencing from 1980': 66, '99 yrs lease commencing from 1990': 65, '999 yrs lease commencing from 1884': 64, '99 yrs lease commencing from 1970': 62, '99 yrs lease commencing from 1984': 62, '946 yrs lease commencing from 1938': 57, '103 yrs lease commencing from 2002': 54, '100 yrs lease commencing from 1986': 51, '929 yrs lease commencing from 1953': 44, '999 yrs lease commencing from 1953': 41, '70 yrs lease commencing from 1964': 39, '99 yrs lease commencing from 1983': 38, '99 yrs lease commencing from 1981': 34, '999 yrs lease commencing from 1827': 33, '999 yrs lease commencing from 1995': 31, '99 yrs lease commencing from 1973': 29, '999 yrs lease commencing from 1874': 28, '101 yrs lease commencing from 1985': 24, '999 yrs lease commencing from 1881': 23, '103 yrs lease commencing from 1985': 23, '110 yrs lease commencing from 2017': 22, '947 yrs lease commencing from 1937': 22, '946 yrs lease commencing from 1937': 22, '102 yrs lease commencing from 1996': 21, '99 yrs lease commencing from 1978': 20, '102 yrs lease commencing from 1978': 20, '99 yrs lease commencing from 1947': 18, '99 years leasehold': 15, '103 yrs lease commencing from 2008': 14, '102 yrs lease commencing from 1986': 14, '99 yrs lease commencing from 1969': 13, '947 yrs lease commencing from 1934': 12, '99 yrs lease commencing from 1952': 11, '103 yrs lease commencing from 1974': 10, '102 yrs lease commencing from 1977': 9, '9999 yrs lease commencing from 1961': 9, '99 yrs lease commencing from 1965': 9, '9999 yrs lease commencing from 1995': 9, '103 yrs lease commencing from 2013': 9, '85 yrs lease commencing from 1990': 8, '103 yrs lease commencing from 2010': 7, '60 yrs lease commencing from 1961': 7, '999 yrs lease commencing from 1991': 7, '999 yrs lease commencing from 1966': 6, '103 yrs lease commencing from 1975': 5, '104 yrs lease commencing from 1986': 5, '999 yrs lease commencing from 1958': 4, 'NA': 4, '89 yrs lease commencing from 1979': 3, '99 yrs lease commencing from 1972': 3, '9999 yrs lease commencing from 1957': 3, '999 yrs lease commencing from 1957': 3, '110 Yrs From 01/11/2017': 3, '999 yrs lease commencing from 1967': 3, '993 yrs lease commencing from 1973': 3, '999 yrs lease commencing from 1965': 3, '99 yrs lease commencing from 1949': 3, '998 yrs lease commencing from 1885': 3, '999 yrs lease commencing from 1968': 2, '999999 yrs lease commencing from 1958': 2, '9999 yrs lease commencing from 1960': 2, '99 yrs lease commencing from 1987': 2, '103 yrs lease commencing from 1977': 2, '999 yrs lease commencing from 1964': 2, '945 yrs lease commencing from 1936': 2, '999 yrs lease commencing from 1959': 2, '999 yrs lease commencing from 2012': 2, '99 yrs lease commencing from 1954': 2, '9999 yrs lease commencing from 1963': 1, '999 yrs lease commencing from 1835': 1, '93 yrs lease commencing from 1979': 1, '97 yrs lease commencing from 1980': 1, '9999 yrs lease commencing from 1964': 1, '103 yrs lease commencing from 2011': 1, '999 yrs lease commencing from 1979': 1, '9999 yrs lease commencing from 1965': 1, '9999 yrs lease commencing from 1966': 1, '999999 yrs lease commencing from 1960': 1, '999 yrs lease commencing from 1919': 1, '999999 yrs lease commencing from 1963': 1, '99 yrs lease commencing from 1957': 1, '999999 yrs lease commencing from 1959': 1, '9999 yrs lease commencing from 2004': 1, '999 yrs lease commencing from 1990': 1, '999999 yrs lease commencing from 1993': 1, '999 yrs lease commencing from 1972': 1, '9999 yrs lease commencing from 1991': 1, '999 yrs lease commencing from 2019': 1, '99 yrs lease commencing from 1960': 1, '60 yrs lease commencing from 1977': 1, '999 yrs lease commencing from 1985': 1, '999 yrs lease commencing from 1986': 1, '99 yrs lease commencing from 1951': 1, '999 yrs lease commencing from 1982': 1, '940 yrs lease commencing from 1941': 1, '99 yrs lease commencing from 1986': 1})\n"
     ]
    }
   ],
   "source": [
    "#checking out the tenure column and find a way standardize data\n",
    "print(Counter(df1.tenure))"
   ]
  },
  {
   "cell_type": "code",
   "execution_count": 26,
   "metadata": {},
   "outputs": [],
   "source": [
    "for i in range(df1.shape[0]):\n",
    "    if (df1.loc[i,'tenure'] == 'NA'):\n",
    "        #set data where tenure is NA to 999 years\n",
    "        df1.loc[i,'lease left'] = 999\n",
    "    elif (df1.loc[i,'tenure'][2] == ' ') & (df1.loc[i,'tenure'][-4:]=='hold'):\n",
    "        #set data where tenure is 99 years but without start year to 99\n",
    "        df1.loc[i,'lease left'] = 99\n",
    "    elif (df1.loc[i,'tenure'][0] == '1'):\n",
    "        df1.loc[i,'lease left'] = int(df1.loc[i,'tenure'][0:3]) - this_year + int(df1.loc[i,'tenure'][-4:])\n",
    "    elif df1.loc[i,'tenure'][2] == ' ':\n",
    "        df1.loc[i,'lease left'] = int(df1.loc[i,'tenure'][0:2]) - this_year + int(df1.loc[i,'tenure'][-4:])\n",
    "    else:\n",
    "        df1.loc[i,'lease left'] = 999"
   ]
  },
  {
   "cell_type": "code",
   "execution_count": 31,
   "metadata": {},
   "outputs": [
    {
     "name": "stdout",
     "output_type": "stream",
     "text": [
      "Counter({'3': 57168, '1': 54195, '2': 1669})\n",
      "Counter({'Condominium': 51076, 'Apartment': 37418, 'Executive Condominium': 13096, 'Terrace': 5419, 'Semi-detached': 3097, 'Detached': 1408, 'Strata Terrace': 1187, 'Strata Semi-detached': 254, 'Strata Detached': 77})\n",
      "Counter({'19': 17394, '15': 8012, '18': 6937, '23': 6884, '05': 6845, '03': 6584, '14': 6490, '10': 6105, '27': 5800, '09': 5159, '16': 4334, '13': 4065, '20': 3918, '21': 3646, '11': 2961, '28': 2960, '12': 2722, '22': 2553, '17': 1677, '25': 1602, '04': 1338, '08': 1244, '01': 1037, '02': 986, '07': 899, '26': 875, '06': 5})\n",
      "Counter({'Strata': 103089, 'Land': 9943})\n"
     ]
    }
   ],
   "source": [
    "#checking the rest of the columns to make sure there is no unusual entries\n",
    "print(Counter(df1.typeOfSale))\n",
    "print(Counter(df1.propertyType))\n",
    "print(Counter(df1.district))\n",
    "print(Counter(df1.typeOfArea))"
   ]
  },
  {
   "cell_type": "code",
   "execution_count": 27,
   "metadata": {},
   "outputs": [],
   "source": [
    "#Splitting into 2 dataframes: landed transactions and non-landed property transactions\n",
    "\n",
    "df_non_landed = df1[df1.propertyType.isin(['Condominium','Apartment','Executive Condominium'])]\n",
    "df_landed = df1[df1.propertyType.isin(['Terrace','Semi-detached','Detached','Strata Terrace',\n",
    "                                       'Strata Semi-detached','Strata Detached'])]"
   ]
  },
  {
   "cell_type": "code",
   "execution_count": null,
   "metadata": {},
   "outputs": [],
   "source": [
    "#finding out the en-bloc sales data\n",
    "display(df_non_landed[df_non_landed.noOfUnits>1].sort_values('noOfUnits'))\n",
    "\n",
    "#further splitting the en-bloc non-landed transactions from the non-landed dataframe\n",
    "#enbloc deals are picked up by dual conditions of large deal value of more than $20mil and >1 unit per transaction.\n",
    "#this is not a perfect method but is able to pick up all enbloc deals while minimizing non-enbloc transactions\n",
    "\n",
    "df_enbloc = df_non_landed[(df_non_landed.noOfUnits>1) & (df_non_landed.price>20000000)]\n",
    "df_non_landed = df_non_landed[(df_non_landed.noOfUnits<=10) & (df_non_landed.price<=20000000)]"
   ]
  },
  {
   "cell_type": "code",
   "execution_count": 43,
   "metadata": {},
   "outputs": [
    {
     "name": "stdout",
     "output_type": "stream",
     "text": [
      "01-05    36377\n",
      "06-10    26890\n",
      "11-15    19277\n",
      "16-20     8992\n",
      "21-25     4161\n",
      "26-30     2619\n",
      "31-35     1827\n",
      "36-40      875\n",
      "41-45      307\n",
      "46-50      116\n",
      "51-55       62\n",
      "56-60       36\n",
      "61-65       26\n",
      "66-70       21\n",
      "71-75        4\n",
      "Name: floorRange, dtype: int64\n"
     ]
    }
   ],
   "source": [
    "#checking for errors in floorRange column\n",
    "print(df_non_landed.floorRange.value_counts())\n",
    "\n",
    "#amend the floorRange error in original URA data \n",
    "df_non_landed.loc[df_non_landed.floorRange=='B1-B5','floorRange'] = '01-05'\n",
    "df_non_landed.loc[df_non_landed.floorRange=='-','floorRange'] = '01-05'"
   ]
  },
  {
   "cell_type": "code",
   "execution_count": 40,
   "metadata": {},
   "outputs": [
    {
     "name": "stdout",
     "output_type": "stream",
     "text": [
      "01-05    36377\n",
      "06-10    26890\n",
      "11-15    19277\n",
      "16-20     8992\n",
      "21-25     4161\n",
      "26-30     2619\n",
      "31-35     1827\n",
      "36-40      875\n",
      "41-45      307\n",
      "46-50      116\n",
      "51-55       62\n",
      "56-60       36\n",
      "61-65       26\n",
      "66-70       21\n",
      "71-75        4\n",
      "Name: floorRange, dtype: int64\n"
     ]
    }
   ],
   "source": [
    "#remove floorRange column of landed because it is not relevant\n",
    "df_landed = df_landed.drop(['floorRange'],axis=1)"
   ]
  },
  {
   "cell_type": "code",
   "execution_count": 29,
   "metadata": {},
   "outputs": [],
   "source": [
    "#convert data types of various columns\n",
    "df_non_landed = df_non_landed.astype({'area':'int32','noOfUnits':'int32','floorRange':'category',\n",
    "                                      'typeOfSale':'category','propertyType':'category',\n",
    "                                      'district':'category','typeOfArea':'category','tenure':'str'})\n",
    "\n",
    "df_enbloc = df_enbloc.astype({'area':'int32','noOfUnits':'int32','floorRange':'category',\n",
    "                              'typeOfSale':'category','propertyType':'category','district':'category',\n",
    "                              'typeOfArea':'category','tenure':'str'})\n",
    "\n",
    "df_landed = df_landed.astype({'area':'int32','noOfUnits':'int32','typeOfSale':'category','propertyType':'category',\n",
    "                              'district':'category','typeOfArea':'category','tenure':'str'})"
   ]
  },
  {
   "cell_type": "code",
   "execution_count": 36,
   "metadata": {},
   "outputs": [
    {
     "data": {
      "text/plain": [
       "floorRange\n",
       "01-05    1293.266707\n",
       "06-10    1341.187096\n",
       "11-15    1370.885356\n",
       "16-20    1554.894684\n",
       "21-25    1735.936073\n",
       "26-30    1849.214968\n",
       "31-35    1835.992885\n",
       "36-40    1860.861714\n",
       "41-45    2174.162866\n",
       "46-50    2413.405172\n",
       "51-55    2643.419355\n",
       "56-60    2567.555556\n",
       "61-65    2352.000000\n",
       "66-70    2348.047619\n",
       "71-75    2309.000000\n",
       "Name: Unit Price psf, dtype: float64"
      ]
     },
     "execution_count": 36,
     "metadata": {},
     "output_type": "execute_result"
    }
   ],
   "source": [
    "df_non_landed.groupby('floorRange')['Unit Price psf'].mean()"
   ]
  },
  {
   "cell_type": "code",
   "execution_count": 47,
   "metadata": {},
   "outputs": [],
   "source": [
    "x = df_non_landed.groupby('floorRange')['Unit Price psf'].mean()\n",
    "x.pct_change().plot(kind='bar',ylabel='Percent change from lower floor range')"
   ]
  },
  {
   "cell_type": "code",
   "execution_count": 56,
   "metadata": {},
   "outputs": [],
   "source": [
    "diff = df_non_landed.loc[df_non_landed.propertyType=='Apartment','Unit Price psf'].mean() - df_non_landed.loc[df_non_landed.propertyType=='Condominium','Unit Price psf'].mean()\n",
    "print(diff)"
   ]
  },
  {
   "cell_type": "code",
   "execution_count": 59,
   "metadata": {},
   "outputs": [
    {
     "data": {
      "text/plain": [
       "district\n",
       "25     786.349673\n",
       "27     912.172255\n",
       "17     974.659516\n",
       "23     978.280261\n",
       "26    1035.436229\n",
       "22    1075.284940\n",
       "18    1097.566797\n",
       "28    1133.216244\n",
       "19    1157.076194\n",
       "16    1172.831649\n",
       "05    1383.819797\n",
       "12    1396.818182\n",
       "21    1400.357547\n",
       "20    1420.701415\n",
       "14    1442.369620\n",
       "08    1446.516762\n",
       "15    1477.045901\n",
       "04    1509.507886\n",
       "13    1569.891707\n",
       "11    1719.595878\n",
       "03    1790.294618\n",
       "06    1930.000000\n",
       "10    2052.479745\n",
       "01    2169.001929\n",
       "02    2186.503568\n",
       "09    2224.771484\n",
       "07    2253.626251\n",
       "Name: Unit Price psf, dtype: float64"
      ]
     },
     "execution_count": 59,
     "metadata": {},
     "output_type": "execute_result"
    }
   ],
   "source": [
    "df_non_landed.groupby('district')['Unit Price psf'].mean().sort_values()"
   ]
  },
  {
   "cell_type": "code",
   "execution_count": 60,
   "metadata": {},
   "outputs": [
    {
     "data": {
      "text/plain": [
       "district\n",
       "25     747.930556\n",
       "27     780.706989\n",
       "22     784.205128\n",
       "17     876.737069\n",
       "18     900.655172\n",
       "16    1001.588978\n",
       "12    1050.469388\n",
       "23    1073.200000\n",
       "19    1106.496013\n",
       "14    1148.210019\n",
       "05    1148.817829\n",
       "28    1174.045764\n",
       "26    1200.856287\n",
       "20    1219.144144\n",
       "13    1226.446043\n",
       "21    1329.010730\n",
       "03    1338.000000\n",
       "15    1409.787485\n",
       "08    1435.619048\n",
       "11    1565.392318\n",
       "10    1568.161781\n",
       "04    1689.728571\n",
       "02    2833.400000\n",
       "09    3034.179487\n",
       "Name: Unit Price psf, dtype: float64"
      ]
     },
     "execution_count": 60,
     "metadata": {},
     "output_type": "execute_result"
    }
   ],
   "source": [
    "df_landed.groupby('district')['Unit Price psf'].mean().sort_values()"
   ]
  },
  {
   "cell_type": "code",
   "execution_count": 32,
   "metadata": {},
   "outputs": [],
   "source": [
    "#saving the cleaned data into csv\n",
    "#df_non_landed.to_csv(\"Non-landed transactions downloaded and cleaned on year \" + str(this_year) + \" month \" + str(this_month) + \".csv\")\n",
    "#df_landed.to_csv(\"landed transactions downloaded and cleaned on year \" + str(this_year) + \" month \" + str(this_month) + \".csv\")\n",
    "#df_enbloc.to_csv(\"enbloc transactions downloaded and cleaned on year \" + str(this_year) + \" month \" + str(this_month) + \".csv\")"
   ]
  },
  {
   "cell_type": "code",
   "execution_count": 33,
   "metadata": {},
   "outputs": [],
   "source": [
    "#Analysis of single condo project\n",
    "condo = 'CARIBBEAN'\n",
    "df_condo = df_non_landed[df_non_landed['project'].str.contains(condo)]\n",
    "df_condo.groupby('floorRange')['Unit Price psf'].mean()"
   ]
  }
 ],
 "metadata": {
  "kernelspec": {
   "display_name": "Python 3",
   "language": "python",
   "name": "python3"
  },
  "language_info": {
   "codemirror_mode": {
    "name": "ipython",
    "version": 3
   },
   "file_extension": ".py",
   "mimetype": "text/x-python",
   "name": "python",
   "nbconvert_exporter": "python",
   "pygments_lexer": "ipython3",
   "version": "3.8.3"
  }
 },
 "nbformat": 4,
 "nbformat_minor": 4
}
