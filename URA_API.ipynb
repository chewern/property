{
 "cells": [
  {
   "cell_type": "markdown",
   "metadata": {},
   "source": [
    "## Singapore Private Property \n",
    "This set of python codes serve to download past 5 years' of URA private property transactions from URA API for purpose of providing a basis for further data analysis.\n",
    "\n",
    "The raw data will undergo basic cleaning and then saved into csv file for archival (because URA will continuously remove data older than 5 years old)."
   ]
  },
  {
   "cell_type": "code",
   "execution_count": 1,
   "metadata": {},
   "outputs": [],
   "source": [
    "import pandas as pd\n",
    "import requests\n",
    "from collections import Counter\n",
    "import datetime as dt\n",
    "import re\n",
    "import matplotlib.pyplot as plt"
   ]
  },
  {
   "cell_type": "code",
   "execution_count": 2,
   "metadata": {},
   "outputs": [],
   "source": [
    "#token given by URA\n",
    "ura_access_key = 'd8722f05-25ff-44f6-bb6f-5d728aa4c9b1'\n",
    "\n",
    "#getting the token for the day\n",
    "r = requests.get(\"https://www.ura.gov.sg/uraDataService/insertNewToken.action\", headers={\"AccessKey\":ura_access_key})\n",
    "token = r.json()['Result']"
   ]
  },
  {
   "cell_type": "code",
   "execution_count": 3,
   "metadata": {},
   "outputs": [
    {
     "name": "stdout",
     "output_type": "stream",
     "text": [
      "Batch 1 completed\n",
      "Batch 2 completed\n",
      "Batch 3 completed\n",
      "Batch 4 completed\n"
     ]
    }
   ],
   "source": [
    "#accessing the data in 4 batches as required by URA API\n",
    "for i in range(1,5):\n",
    "    #requesting data by passing in access key and token, in 4 batches as stated in URA API website\n",
    "    req = requests.get('https://www.ura.gov.sg/uraDataService/invokeUraDS?service=PMI_Resi_Transaction&batch=' + str(i),\n",
    "                      headers={\"AccessKey\":ura_access_key, \"Token\":token})\n",
    "    \n",
    "    df_temp = pd.json_normalize(req.json()['Result'], 'transaction', ['street','x','y','project'],errors='ignore')\n",
    "\n",
    "    #adding each batch to DataFrame\n",
    "    if i==1:\n",
    "        df = df_temp\n",
    "    else:\n",
    "        df = df.append(df_temp, ignore_index=True) #ignore index so that append can be done\n",
    "    \n",
    "    #printing the progress for monitoring\n",
    "    print('Batch ' + str(i) + ' completed')"
   ]
  },
  {
   "cell_type": "code",
   "execution_count": 4,
   "metadata": {},
   "outputs": [
    {
     "name": "stdout",
     "output_type": "stream",
     "text": [
      "<class 'pandas.core.frame.DataFrame'>\n",
      "RangeIndex: 113036 entries, 0 to 113035\n",
      "Data columns (total 15 columns):\n",
      " #   Column        Non-Null Count   Dtype \n",
      "---  ------        --------------   ----- \n",
      " 0   area          113036 non-null  object\n",
      " 1   floorRange    113036 non-null  object\n",
      " 2   noOfUnits     113036 non-null  object\n",
      " 3   contractDate  113036 non-null  object\n",
      " 4   typeOfSale    113036 non-null  object\n",
      " 5   price         113036 non-null  object\n",
      " 6   propertyType  113036 non-null  object\n",
      " 7   district      113036 non-null  object\n",
      " 8   typeOfArea    113036 non-null  object\n",
      " 9   tenure        113036 non-null  object\n",
      " 10  nettPrice     1137 non-null    object\n",
      " 11  street        113036 non-null  object\n",
      " 12  x             88181 non-null   object\n",
      " 13  y             88181 non-null   object\n",
      " 14  project       113036 non-null  object\n",
      "dtypes: object(15)\n",
      "memory usage: 12.9+ MB\n"
     ]
    }
   ],
   "source": [
    "df.info()"
   ]
  },
  {
   "cell_type": "code",
   "execution_count": 5,
   "metadata": {},
   "outputs": [],
   "source": [
    "#saving raw data to local drive\n",
    "this_year = dt.date.today().year\n",
    "this_month = dt.date.today().month\n",
    "\n",
    "df.to_csv(\"ura_caveats downloaded year \" + str(this_year) + ' month ' + str(this_month) + \" raw data.csv\")"
   ]
  },
  {
   "cell_type": "code",
   "execution_count": 6,
   "metadata": {},
   "outputs": [],
   "source": [
    "#making copy of df\n",
    "df1 = df.copy()\n",
    "\n",
    "#performing basic tidying up\n",
    "\n",
    "#nett price is final selling price, hence will replace price if nettprice is not null\n",
    "df1.loc[df1['nettPrice'].notnull(),'price'] = df1.loc[df1['nettPrice'].notnull(),'nettPrice']\n",
    "\n",
    "#remove nettprice and geo-coordinates\n",
    "df1 = df1.drop(['nettPrice','x','y'],axis=1)\n",
    "\n",
    "#convert area to sq feet, and type float\n",
    "df1.area = df1.area.astype('float') * 10.76\n",
    "\n",
    "#forcing to numeric before changing to int type\n",
    "df1.price = pd.to_numeric(df1.price, errors='coerce').astype('int')\n",
    "\n",
    "#create new column to hold calculated psf price\n",
    "df1['Unit Price psf'] = (df1['price']/df1['area']).astype('int')\n",
    "\n",
    "#parsing the contract date to proper pandas datetime format\n",
    "df1.contractDate = pd.to_datetime(df1.contractDate, format='%m%y').dt.to_period('M')"
   ]
  },
  {
   "cell_type": "code",
   "execution_count": 7,
   "metadata": {},
   "outputs": [
    {
     "name": "stdout",
     "output_type": "stream",
     "text": [
      "Counter({'Freehold': 32022, '99 yrs lease commencing from 2018': 12180, '99 yrs lease commencing from 2014': 8849, '99 yrs lease commencing from 2015': 7420, '99 yrs lease commencing from 2016': 5990, '99 yrs lease commencing from 2013': 5330, '99 yrs lease commencing from 2017': 4789, '99 yrs lease commencing from 2011': 4010, '99 yrs lease commencing from 2012': 3700, '99 yrs lease commencing from 2010': 3217, '99 yrs lease commencing from 2019': 2432, '99 yrs lease commencing from 1997': 2312, '99 yrs lease commencing from 2008': 1746, '99 yrs lease commencing from 1996': 1498, '99 yrs lease commencing from 1995': 1264, '99 yrs lease commencing from 2000': 1158, '99 yrs lease commencing from 2007': 1121, '99 yrs lease commencing from 2006': 959, '99 yrs lease commencing from 1994': 924, '99 yrs lease commencing from 2002': 810, '99 yrs lease commencing from 2001': 789, '99 yrs lease commencing from 1993': 742, '99 yrs lease commencing from 2009': 721, '99 yrs lease commencing from 2004': 615, '99 yrs lease commencing from 1998': 614, '99 yrs lease commencing from 1991': 580, '999 yrs lease commencing from 1885': 545, '999 yrs lease commencing from 1879': 472, '99 yrs lease commencing from 2005': 454, '99 yrs lease commencing from 1982': 448, '999 yrs lease commencing from 1877': 443, '999 yrs lease commencing from 1882': 340, '99 yrs lease commencing from 1999': 332, '956 yrs lease commencing from 1928': 253, '999 yrs lease commencing from 1883': 252, '99 yrs lease commencing from 1992': 248, '999 yrs lease commencing from 1876': 227, '999 yrs lease commencing from 1841': 201, '999 yrs lease commencing from 1875': 192, '999 yrs lease commencing from 1878': 183, '99 yrs lease commencing from 2003': 167, '99 yrs lease commencing from 1975': 161, '999 yrs lease commencing from 1886': 141, '999 yrs lease commencing from 1955': 136, '99 yrs lease commencing from 1977': 135, '999 yrs lease commencing from 1954': 122, '99 yrs lease commencing from 1976': 106, '103 yrs lease commencing from 2009': 99, '99 yrs lease commencing from 1979': 98, '60 yrs lease commencing from 2013': 78, '99 yrs lease commencing from 1968': 71, '999 yrs lease commencing from 1956': 70, '99 yrs lease commencing from 1980': 67, '99 yrs lease commencing from 1990': 65, '999 yrs lease commencing from 1884': 64, '99 yrs lease commencing from 1970': 62, '99 yrs lease commencing from 1984': 62, '946 yrs lease commencing from 1938': 57, '103 yrs lease commencing from 2002': 54, '100 yrs lease commencing from 1986': 51, '929 yrs lease commencing from 1953': 44, '999 yrs lease commencing from 1953': 41, '70 yrs lease commencing from 1964': 39, '99 yrs lease commencing from 1981': 34, '999 yrs lease commencing from 1827': 33, '999 yrs lease commencing from 1995': 31, '99 yrs lease commencing from 1983': 30, '99 yrs lease commencing from 1973': 29, '999 yrs lease commencing from 1874': 28, '101 yrs lease commencing from 1985': 24, '999 yrs lease commencing from 1881': 23, '103 yrs lease commencing from 1985': 23, '110 yrs lease commencing from 2017': 22, '947 yrs lease commencing from 1937': 22, '946 yrs lease commencing from 1937': 22, '102 yrs lease commencing from 1996': 20, '99 yrs lease commencing from 1978': 20, '102 yrs lease commencing from 1978': 20, '99 yrs lease commencing from 1947': 18, '99 years leasehold': 15, '103 yrs lease commencing from 2008': 14, '102 yrs lease commencing from 1986': 14, '99 yrs lease commencing from 1969': 13, '947 yrs lease commencing from 1934': 12, '99 yrs lease commencing from 1952': 11, '103 yrs lease commencing from 1974': 10, '102 yrs lease commencing from 1977': 9, '9999 yrs lease commencing from 1961': 9, '99 yrs lease commencing from 1965': 9, '9999 yrs lease commencing from 1995': 9, '103 yrs lease commencing from 2013': 9, '85 yrs lease commencing from 1990': 8, '103 yrs lease commencing from 2010': 7, '60 yrs lease commencing from 1961': 7, '999 yrs lease commencing from 1991': 7, '999 yrs lease commencing from 1966': 6, '103 yrs lease commencing from 1975': 5, '104 yrs lease commencing from 1986': 5, '999 yrs lease commencing from 1958': 4, 'NA': 4, '89 yrs lease commencing from 1979': 3, '99 yrs lease commencing from 1972': 3, '9999 yrs lease commencing from 1957': 3, '999 yrs lease commencing from 1957': 3, '110 Yrs From 01/11/2017': 3, '999 yrs lease commencing from 1967': 3, '993 yrs lease commencing from 1973': 3, '999 yrs lease commencing from 1965': 3, '99 yrs lease commencing from 1949': 3, '998 yrs lease commencing from 1885': 3, '999 yrs lease commencing from 1968': 2, '999999 yrs lease commencing from 1958': 2, '9999 yrs lease commencing from 1960': 2, '99 yrs lease commencing from 1987': 2, '103 yrs lease commencing from 1977': 2, '999 yrs lease commencing from 1964': 2, '945 yrs lease commencing from 1936': 2, '999 yrs lease commencing from 1959': 2, '999 yrs lease commencing from 2012': 2, '99 yrs lease commencing from 1954': 2, '9999 yrs lease commencing from 1963': 1, '999 yrs lease commencing from 1835': 1, '93 yrs lease commencing from 1979': 1, '97 yrs lease commencing from 1980': 1, '9999 yrs lease commencing from 1964': 1, '103 yrs lease commencing from 2011': 1, '999 yrs lease commencing from 1979': 1, '9999 yrs lease commencing from 1965': 1, '9999 yrs lease commencing from 1966': 1, '999999 yrs lease commencing from 1960': 1, '999 yrs lease commencing from 1919': 1, '999999 yrs lease commencing from 1963': 1, '99 yrs lease commencing from 1957': 1, '999999 yrs lease commencing from 1959': 1, '9999 yrs lease commencing from 2004': 1, '999 yrs lease commencing from 1990': 1, '9999 yrs lease commencing from 1991': 1, '999 yrs lease commencing from 2019': 1, '999999 yrs lease commencing from 1993': 1, '999 yrs lease commencing from 1972': 1, '99 yrs lease commencing from 1960': 1, '60 yrs lease commencing from 1977': 1, '999 yrs lease commencing from 1985': 1, '999 yrs lease commencing from 1986': 1, '99 yrs lease commencing from 1951': 1, '999 yrs lease commencing from 1982': 1, '940 yrs lease commencing from 1941': 1, '99 yrs lease commencing from 1986': 1})\n"
     ]
    }
   ],
   "source": [
    "#checking out the tenure column and find a way standardize data\n",
    "print(Counter(df1.tenure))"
   ]
  },
  {
   "cell_type": "code",
   "execution_count": 8,
   "metadata": {},
   "outputs": [],
   "source": [
    "for i in range(df1.shape[0]):\n",
    "    if (df1.loc[i,'tenure'] == 'NA'):\n",
    "        #set data where tenure is NA to 999 years\n",
    "        df1.loc[i,'lease left'] = 999\n",
    "    elif (df1.loc[i,'tenure'][2] == ' ') & (df1.loc[i,'tenure'][-4:]=='hold'):\n",
    "        #set data where tenure is 99 years but without start year to 99\n",
    "        df1.loc[i,'lease left'] = 99\n",
    "    elif (df1.loc[i,'tenure'][0] == '1'):\n",
    "        df1.loc[i,'lease left'] = int(df1.loc[i,'tenure'][0:3]) - this_year + int(df1.loc[i,'tenure'][-4:])\n",
    "    elif df1.loc[i,'tenure'][2] == ' ':\n",
    "        df1.loc[i,'lease left'] = int(df1.loc[i,'tenure'][0:2]) - this_year + int(df1.loc[i,'tenure'][-4:])\n",
    "    else:\n",
    "        df1.loc[i,'lease left'] = 999"
   ]
  },
  {
   "cell_type": "code",
   "execution_count": 9,
   "metadata": {},
   "outputs": [
    {
     "name": "stdout",
     "output_type": "stream",
     "text": [
      "Counter({'3': 57241, '1': 54137, '2': 1658})\n",
      "Counter({'Condominium': 51069, 'Apartment': 37418, 'Executive Condominium': 13093, 'Terrace': 5424, 'Semi-detached': 3094, 'Detached': 1410, 'Strata Terrace': 1193, 'Strata Semi-detached': 257, 'Strata Detached': 78})\n",
      "Counter({'19': 17400, '15': 8021, '18': 6938, '23': 6885, '05': 6843, '03': 6578, '14': 6480, '10': 6109, '27': 5797, '09': 5159, '16': 4329, '13': 4074, '20': 3909, '21': 3647, '11': 2964, '28': 2957, '12': 2726, '22': 2549, '17': 1677, '25': 1606, '04': 1339, '08': 1245, '01': 1041, '02': 987, '07': 897, '26': 874, '06': 5})\n",
      "Counter({'Strata': 103089, 'Land': 9947})\n"
     ]
    }
   ],
   "source": [
    "#checking the rest of the columns to make sure there is no unusual entries\n",
    "print(Counter(df1.typeOfSale))\n",
    "print(Counter(df1.propertyType))\n",
    "print(Counter(df1.district))\n",
    "print(Counter(df1.typeOfArea))"
   ]
  },
  {
   "cell_type": "code",
   "execution_count": 10,
   "metadata": {},
   "outputs": [],
   "source": [
    "#Splitting into 2 dataframes: landed transactions and non-landed property transactions\n",
    "\n",
    "df_non_landed = df1[df1.propertyType.isin(['Condominium','Apartment','Executive Condominium'])]\n",
    "df_landed = df1[df1.propertyType.isin(['Terrace','Semi-detached','Detached','Strata Terrace',\n",
    "                                       'Strata Semi-detached','Strata Detached'])]"
   ]
  },
  {
   "cell_type": "code",
   "execution_count": 11,
   "metadata": {},
   "outputs": [],
   "source": [
    "#remove floorRange column of landed because it is not relevant\n",
    "df_landed = df_landed.drop(['floorRange'],axis=1)"
   ]
  },
  {
   "cell_type": "code",
   "execution_count": 22,
   "metadata": {},
   "outputs": [
    {
     "name": "stdout",
     "output_type": "stream",
     "text": [
      "01-05    36323\n",
      "06-10    26861\n",
      "11-15    19264\n",
      "16-20     8993\n",
      "21-25     4157\n",
      "26-30     2610\n",
      "31-35     1824\n",
      "36-40      875\n",
      "41-45      306\n",
      "46-50      116\n",
      "51-55       62\n",
      "56-60       36\n",
      "61-65       25\n",
      "66-70       21\n",
      "71-75        4\n",
      "Name: floorRange, dtype: int64\n"
     ]
    }
   ],
   "source": [
    "#checking for errors in floorRange column\n",
    "print(df_non_landed.floorRange.value_counts())\n",
    "\n",
    "#amend the floorRange error in original URA data \n",
    "df_non_landed.loc[df_non_landed['floorRange']=='B1-B5','floorRange'] = '01-05'\n",
    "df_non_landed.loc[df_non_landed['floorRange']=='-','floorRange'] = '01-05'"
   ]
  },
  {
   "cell_type": "code",
   "execution_count": 13,
   "metadata": {},
   "outputs": [],
   "source": [
    "#convert data types of various columns\n",
    "df_non_landed = df_non_landed.astype({'area':'int32','noOfUnits':'int32','floorRange':'category',\n",
    "                                      'typeOfSale':'category','propertyType':'category',\n",
    "                                      'district':'category','typeOfArea':'category','tenure':'str'})\n",
    "\n",
    "df_landed = df_landed.astype({'area':'int32','noOfUnits':'int32','typeOfSale':'category','propertyType':'category',\n",
    "                              'district':'category','typeOfArea':'category','tenure':'str'})"
   ]
  },
  {
   "cell_type": "code",
   "execution_count": 14,
   "metadata": {},
   "outputs": [
    {
     "data": {
      "text/html": [
       "<div>\n",
       "<style scoped>\n",
       "    .dataframe tbody tr th:only-of-type {\n",
       "        vertical-align: middle;\n",
       "    }\n",
       "\n",
       "    .dataframe tbody tr th {\n",
       "        vertical-align: top;\n",
       "    }\n",
       "\n",
       "    .dataframe thead th {\n",
       "        text-align: right;\n",
       "    }\n",
       "</style>\n",
       "<table border=\"1\" class=\"dataframe\">\n",
       "  <thead>\n",
       "    <tr style=\"text-align: right;\">\n",
       "      <th></th>\n",
       "      <th>area</th>\n",
       "      <th>floorRange</th>\n",
       "      <th>noOfUnits</th>\n",
       "      <th>contractDate</th>\n",
       "      <th>typeOfSale</th>\n",
       "      <th>price</th>\n",
       "      <th>propertyType</th>\n",
       "      <th>district</th>\n",
       "      <th>typeOfArea</th>\n",
       "      <th>tenure</th>\n",
       "      <th>street</th>\n",
       "      <th>project</th>\n",
       "      <th>Unit Price psf</th>\n",
       "      <th>lease left</th>\n",
       "    </tr>\n",
       "  </thead>\n",
       "  <tbody>\n",
       "    <tr>\n",
       "      <th>33746</th>\n",
       "      <td>2255</td>\n",
       "      <td>01-05</td>\n",
       "      <td>2</td>\n",
       "      <td>2016-12</td>\n",
       "      <td>3</td>\n",
       "      <td>3400000</td>\n",
       "      <td>Apartment</td>\n",
       "      <td>14</td>\n",
       "      <td>Land</td>\n",
       "      <td>9999 yrs lease commencing from 1965</td>\n",
       "      <td>LORONG 24 GEYLANG</td>\n",
       "      <td>PERPETUAL APARTMENTS</td>\n",
       "      <td>1507</td>\n",
       "      <td>999.0</td>\n",
       "    </tr>\n",
       "    <tr>\n",
       "      <th>45361</th>\n",
       "      <td>3346</td>\n",
       "      <td>21-25</td>\n",
       "      <td>2</td>\n",
       "      <td>2017-11</td>\n",
       "      <td>3</td>\n",
       "      <td>6000000</td>\n",
       "      <td>Apartment</td>\n",
       "      <td>09</td>\n",
       "      <td>Strata</td>\n",
       "      <td>Freehold</td>\n",
       "      <td>ST. THOMAS WALK</td>\n",
       "      <td>SKYPARK</td>\n",
       "      <td>1792</td>\n",
       "      <td>999.0</td>\n",
       "    </tr>\n",
       "    <tr>\n",
       "      <th>44563</th>\n",
       "      <td>5659</td>\n",
       "      <td>11-15</td>\n",
       "      <td>2</td>\n",
       "      <td>2019-10</td>\n",
       "      <td>3</td>\n",
       "      <td>20000000</td>\n",
       "      <td>Apartment</td>\n",
       "      <td>09</td>\n",
       "      <td>Strata</td>\n",
       "      <td>Freehold</td>\n",
       "      <td>CAIRNHILL ROAD</td>\n",
       "      <td>THE RITZ-CARLTON RESIDENCES SINGAPORE CAIRNHILL</td>\n",
       "      <td>3533</td>\n",
       "      <td>999.0</td>\n",
       "    </tr>\n",
       "    <tr>\n",
       "      <th>30097</th>\n",
       "      <td>2797</td>\n",
       "      <td>01-05</td>\n",
       "      <td>2</td>\n",
       "      <td>2020-07</td>\n",
       "      <td>3</td>\n",
       "      <td>1950000</td>\n",
       "      <td>Apartment</td>\n",
       "      <td>12</td>\n",
       "      <td>Strata</td>\n",
       "      <td>Freehold</td>\n",
       "      <td>BALESTIER ROAD</td>\n",
       "      <td>EASTPAC BUILDING</td>\n",
       "      <td>697</td>\n",
       "      <td>999.0</td>\n",
       "    </tr>\n",
       "    <tr>\n",
       "      <th>18718</th>\n",
       "      <td>8629</td>\n",
       "      <td>01-05</td>\n",
       "      <td>2</td>\n",
       "      <td>2017-11</td>\n",
       "      <td>3</td>\n",
       "      <td>16485142</td>\n",
       "      <td>Apartment</td>\n",
       "      <td>09</td>\n",
       "      <td>Strata</td>\n",
       "      <td>Freehold</td>\n",
       "      <td>KILLINEY ROAD</td>\n",
       "      <td>TAI WAH BUILDING</td>\n",
       "      <td>1910</td>\n",
       "      <td>999.0</td>\n",
       "    </tr>\n",
       "    <tr>\n",
       "      <th>...</th>\n",
       "      <td>...</td>\n",
       "      <td>...</td>\n",
       "      <td>...</td>\n",
       "      <td>...</td>\n",
       "      <td>...</td>\n",
       "      <td>...</td>\n",
       "      <td>...</td>\n",
       "      <td>...</td>\n",
       "      <td>...</td>\n",
       "      <td>...</td>\n",
       "      <td>...</td>\n",
       "      <td>...</td>\n",
       "      <td>...</td>\n",
       "      <td>...</td>\n",
       "    </tr>\n",
       "    <tr>\n",
       "      <th>36865</th>\n",
       "      <td>558357</td>\n",
       "      <td>01-05</td>\n",
       "      <td>330</td>\n",
       "      <td>2017-05</td>\n",
       "      <td>3</td>\n",
       "      <td>765781819</td>\n",
       "      <td>Apartment</td>\n",
       "      <td>14</td>\n",
       "      <td>Strata</td>\n",
       "      <td>102 yrs lease commencing from 1986</td>\n",
       "      <td>SIMS AVENUE</td>\n",
       "      <td>EUNOSVILLE</td>\n",
       "      <td>1371</td>\n",
       "      <td>68.0</td>\n",
       "    </tr>\n",
       "    <tr>\n",
       "      <th>89747</th>\n",
       "      <td>563619</td>\n",
       "      <td>06-10</td>\n",
       "      <td>336</td>\n",
       "      <td>2017-10</td>\n",
       "      <td>3</td>\n",
       "      <td>629000000</td>\n",
       "      <td>Apartment</td>\n",
       "      <td>19</td>\n",
       "      <td>Strata</td>\n",
       "      <td>103 yrs lease commencing from 1985</td>\n",
       "      <td>HOUGANG AVENUE 2</td>\n",
       "      <td>FLORENCE REGENCY</td>\n",
       "      <td>1116</td>\n",
       "      <td>68.0</td>\n",
       "    </tr>\n",
       "    <tr>\n",
       "      <th>88517</th>\n",
       "      <td>600816</td>\n",
       "      <td>01-05</td>\n",
       "      <td>358</td>\n",
       "      <td>2016-05</td>\n",
       "      <td>3</td>\n",
       "      <td>638000000</td>\n",
       "      <td>Apartment</td>\n",
       "      <td>20</td>\n",
       "      <td>Strata</td>\n",
       "      <td>99 yrs lease commencing from 1986</td>\n",
       "      <td>SHUNFU ROAD</td>\n",
       "      <td>SHUNFU VILLE</td>\n",
       "      <td>1061</td>\n",
       "      <td>65.0</td>\n",
       "    </tr>\n",
       "    <tr>\n",
       "      <th>7932</th>\n",
       "      <td>629029</td>\n",
       "      <td>01-05</td>\n",
       "      <td>436</td>\n",
       "      <td>2018-01</td>\n",
       "      <td>3</td>\n",
       "      <td>840888888</td>\n",
       "      <td>Condominium</td>\n",
       "      <td>05</td>\n",
       "      <td>Strata</td>\n",
       "      <td>99 yrs lease commencing from 1982</td>\n",
       "      <td>JALAN LEMPENG</td>\n",
       "      <td>PARK WEST</td>\n",
       "      <td>1336</td>\n",
       "      <td>61.0</td>\n",
       "    </tr>\n",
       "    <tr>\n",
       "      <th>55311</th>\n",
       "      <td>946729</td>\n",
       "      <td>01-05</td>\n",
       "      <td>560</td>\n",
       "      <td>2017-08</td>\n",
       "      <td>3</td>\n",
       "      <td>970000000</td>\n",
       "      <td>Condominium</td>\n",
       "      <td>18</td>\n",
       "      <td>Strata</td>\n",
       "      <td>101 yrs lease commencing from 1985</td>\n",
       "      <td>TAMPINES STREET 11</td>\n",
       "      <td>TAMPINES COURT</td>\n",
       "      <td>1024</td>\n",
       "      <td>66.0</td>\n",
       "    </tr>\n",
       "  </tbody>\n",
       "</table>\n",
       "<p>102 rows × 14 columns</p>\n",
       "</div>"
      ],
      "text/plain": [
       "         area floorRange  noOfUnits contractDate typeOfSale      price  \\\n",
       "33746    2255      01-05          2      2016-12          3    3400000   \n",
       "45361    3346      21-25          2      2017-11          3    6000000   \n",
       "44563    5659      11-15          2      2019-10          3   20000000   \n",
       "30097    2797      01-05          2      2020-07          3    1950000   \n",
       "18718    8629      01-05          2      2017-11          3   16485142   \n",
       "...       ...        ...        ...          ...        ...        ...   \n",
       "36865  558357      01-05        330      2017-05          3  765781819   \n",
       "89747  563619      06-10        336      2017-10          3  629000000   \n",
       "88517  600816      01-05        358      2016-05          3  638000000   \n",
       "7932   629029      01-05        436      2018-01          3  840888888   \n",
       "55311  946729      01-05        560      2017-08          3  970000000   \n",
       "\n",
       "      propertyType district typeOfArea                               tenure  \\\n",
       "33746    Apartment       14       Land  9999 yrs lease commencing from 1965   \n",
       "45361    Apartment       09     Strata                             Freehold   \n",
       "44563    Apartment       09     Strata                             Freehold   \n",
       "30097    Apartment       12     Strata                             Freehold   \n",
       "18718    Apartment       09     Strata                             Freehold   \n",
       "...            ...      ...        ...                                  ...   \n",
       "36865    Apartment       14     Strata   102 yrs lease commencing from 1986   \n",
       "89747    Apartment       19     Strata   103 yrs lease commencing from 1985   \n",
       "88517    Apartment       20     Strata    99 yrs lease commencing from 1986   \n",
       "7932   Condominium       05     Strata    99 yrs lease commencing from 1982   \n",
       "55311  Condominium       18     Strata   101 yrs lease commencing from 1985   \n",
       "\n",
       "                   street                                          project  \\\n",
       "33746   LORONG 24 GEYLANG                             PERPETUAL APARTMENTS   \n",
       "45361     ST. THOMAS WALK                                          SKYPARK   \n",
       "44563      CAIRNHILL ROAD  THE RITZ-CARLTON RESIDENCES SINGAPORE CAIRNHILL   \n",
       "30097      BALESTIER ROAD                                 EASTPAC BUILDING   \n",
       "18718       KILLINEY ROAD                                 TAI WAH BUILDING   \n",
       "...                   ...                                              ...   \n",
       "36865         SIMS AVENUE                                       EUNOSVILLE   \n",
       "89747    HOUGANG AVENUE 2                                 FLORENCE REGENCY   \n",
       "88517         SHUNFU ROAD                                     SHUNFU VILLE   \n",
       "7932        JALAN LEMPENG                                        PARK WEST   \n",
       "55311  TAMPINES STREET 11                                   TAMPINES COURT   \n",
       "\n",
       "       Unit Price psf  lease left  \n",
       "33746            1507       999.0  \n",
       "45361            1792       999.0  \n",
       "44563            3533       999.0  \n",
       "30097             697       999.0  \n",
       "18718            1910       999.0  \n",
       "...               ...         ...  \n",
       "36865            1371        68.0  \n",
       "89747            1116        68.0  \n",
       "88517            1061        65.0  \n",
       "7932             1336        61.0  \n",
       "55311            1024        66.0  \n",
       "\n",
       "[102 rows x 14 columns]"
      ]
     },
     "metadata": {},
     "output_type": "display_data"
    }
   ],
   "source": [
    "#finding out the en-bloc sales data\n",
    "display(df_non_landed[df_non_landed.noOfUnits>1].sort_values('noOfUnits'))\n",
    "\n",
    "#further splitting the en-bloc non-landed transactions from the non-landed dataframe\n",
    "#enbloc deals are picked up by dual conditions of large deal value of more than $20mil and >1 unit per transaction.\n",
    "#this is not a perfect method but is able to pick up all enbloc deals while minimizing non-enbloc transactions\n",
    "\n",
    "df_enbloc = df_non_landed[(df_non_landed.noOfUnits>1) & (df_non_landed.price>20000000)]\n",
    "df_non_landed = df_non_landed[(df_non_landed.noOfUnits<=10) & (df_non_landed.price<=20000000)]\n",
    "\n",
    "#convert data types of various columns\n",
    "df_enbloc = df_enbloc.astype({'area':'int32','noOfUnits':'int32','floorRange':'category',\n",
    "                              'typeOfSale':'category','propertyType':'category','district':'category',\n",
    "                              'typeOfArea':'category','tenure':'str'})"
   ]
  },
  {
   "cell_type": "code",
   "execution_count": 15,
   "metadata": {},
   "outputs": [
    {
     "data": {
      "image/png": "[encoded data removed]",
      "text/plain": [
       "<Figure size 432x288 with 1 Axes>"
      ]
     },
     "metadata": {
      "needs_background": "light"
     },
     "output_type": "display_data"
    }
   ],
   "source": [
    "Price_change_floor = df_non_landed.groupby('floorRange')['Unit Price psf'].mean().pct_change()*100\n",
    "Price_change_floor.plot(kind='bar')\n",
    "_ = plt.ylabel(\"Percent change in price compared to lower floor range\")"
   ]
  },
  {
   "cell_type": "code",
   "execution_count": 16,
   "metadata": {},
   "outputs": [
    {
     "name": "stdout",
     "output_type": "stream",
     "text": [
      "223.58076437338173\n"
     ]
    }
   ],
   "source": [
    "diff = df_non_landed.loc[df_non_landed.propertyType=='Apartment','Unit Price psf'].mean() - df_non_landed.loc[df_non_landed.propertyType=='Condominium','Unit Price psf'].mean()\n",
    "print(diff)"
   ]
  },
  {
   "cell_type": "code",
   "execution_count": 17,
   "metadata": {},
   "outputs": [
    {
     "data": {
      "text/plain": [
       "district\n",
       "25     785.941982\n",
       "27     912.089618\n",
       "17     974.145530\n",
       "23     978.526545\n",
       "26    1035.840741\n",
       "22    1075.041806\n",
       "18    1097.670835\n",
       "28    1133.485759\n",
       "19    1157.214207\n",
       "16    1172.698527\n",
       "05    1383.794623\n",
       "12    1396.160808\n",
       "21    1399.798804\n",
       "20    1421.305864\n",
       "14    1442.296862\n",
       "08    1445.895425\n",
       "15    1476.054799\n",
       "04    1509.728132\n",
       "13    1569.991168\n",
       "11    1718.546271\n",
       "03    1790.764079\n",
       "10    2044.090839\n",
       "01    2168.831892\n",
       "02    2184.799796\n",
       "09    2221.391415\n",
       "07    2252.053631\n",
       "06    2297.500000\n",
       "Name: Unit Price psf, dtype: float64"
      ]
     },
     "execution_count": 17,
     "metadata": {},
     "output_type": "execute_result"
    }
   ],
   "source": [
    "df_non_landed.groupby('district')['Unit Price psf'].mean().sort_values()"
   ]
  },
  {
   "cell_type": "code",
   "execution_count": 18,
   "metadata": {},
   "outputs": [
    {
     "data": {
      "text/plain": [
       "district\n",
       "25     747.930556\n",
       "27     778.513369\n",
       "22     781.929936\n",
       "17     877.085837\n",
       "18     898.542373\n",
       "16    1003.415704\n",
       "12    1050.469388\n",
       "23    1071.863946\n",
       "19    1106.371216\n",
       "05    1148.817829\n",
       "14    1150.088803\n",
       "28    1174.282651\n",
       "26    1200.856287\n",
       "20    1221.603293\n",
       "13    1226.071048\n",
       "21    1329.010730\n",
       "03    1338.000000\n",
       "15    1410.411072\n",
       "08    1435.619048\n",
       "11    1563.277322\n",
       "10    1569.542484\n",
       "04    1689.728571\n",
       "02    2833.400000\n",
       "09    3034.179487\n",
       "Name: Unit Price psf, dtype: float64"
      ]
     },
     "execution_count": 18,
     "metadata": {},
     "output_type": "execute_result"
    }
   ],
   "source": [
    "df_landed.groupby('district')['Unit Price psf'].mean().sort_values()"
   ]
  },
  {
   "cell_type": "code",
   "execution_count": 19,
   "metadata": {},
   "outputs": [],
   "source": [
    "#saving the cleaned data into csv\n",
    "df_non_landed.to_csv(\"Non-landed transactions downloaded and cleaned on year \" + str(this_year) + \" month \" + str(this_month) + \".csv\")\n",
    "df_landed.to_csv(\"landed transactions downloaded and cleaned on year \" + str(this_year) + \" month \" + str(this_month) + \".csv\")\n",
    "df_enbloc.to_csv(\"enbloc transactions downloaded and cleaned on year \" + str(this_year) + \" month \" + str(this_month) + \".csv\")"
   ]
  },
  {
   "cell_type": "code",
   "execution_count": 20,
   "metadata": {},
   "outputs": [
    {
     "data": {
      "text/plain": [
       "floorRange\n",
       "01-05    1502.718750\n",
       "06-10    1503.074074\n",
       "11-15            NaN\n",
       "16-20            NaN\n",
       "21-25            NaN\n",
       "26-30            NaN\n",
       "31-35            NaN\n",
       "36-40            NaN\n",
       "41-45            NaN\n",
       "46-50            NaN\n",
       "51-55            NaN\n",
       "56-60            NaN\n",
       "61-65            NaN\n",
       "66-70            NaN\n",
       "71-75            NaN\n",
       "Name: Unit Price psf, dtype: float64"
      ]
     },
     "execution_count": 20,
     "metadata": {},
     "output_type": "execute_result"
    }
   ],
   "source": [
    "#Analysis of single condo project\n",
    "condo = 'CARIBBEAN'\n",
    "df_condo = df_non_landed[df_non_landed['project'].str.contains(condo)]\n",
    "df_condo.groupby('floorRange')['Unit Price psf'].mean()"
   ]
  }
 ],
 "metadata": {
  "kernelspec": {
   "display_name": "Python 3",
   "language": "python",
   "name": "python3"
  },
  "language_info": {
   "codemirror_mode": {
    "name": "ipython",
    "version": 3
   },
   "file_extension": ".py",
   "mimetype": "text/x-python",
   "name": "python",
   "nbconvert_exporter": "python",
   "pygments_lexer": "ipython3",
   "version": "3.8.3"
  }
 },
 "nbformat": 4,
 "nbformat_minor": 4
}
