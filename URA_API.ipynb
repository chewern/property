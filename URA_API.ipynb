{
 "cells": [
  {
   "cell_type": "markdown",
   "metadata": {},
   "source": [
    "## Singapore Private Property \n",
    "This set of python codes serve to download past 5 years' of URA private property transactions from URA API for purpose of providing a basis for further data analysis.\n",
    "\n",
    "The raw data will undergo basic cleaning and then saved into csv file for archival (because URA will continuously remove data older than 5 years old)."
   ]
  },
  {
   "cell_type": "code",
   "execution_count": 1,
   "metadata": {},
   "outputs": [],
   "source": [
    "import pandas as pd\n",
    "import requests\n",
    "from collections import Counter\n",
    "import datetime as dt"
   ]
  },
  {
   "cell_type": "code",
   "execution_count": 2,
   "metadata": {},
   "outputs": [],
   "source": [
    "#token given by URA\n",
    "ura_access_key = 'd8722f05-25ff-44f6-bb6f-5d728aa4c9b1'\n",
    "\n",
    "#getting the token for the day\n",
    "r = requests.get(\"https://www.ura.gov.sg/uraDataService/insertNewToken.action\", headers={\"AccessKey\":ura_access_key})\n",
    "token = r.json()['Result']"
   ]
  },
  {
   "cell_type": "code",
   "execution_count": 3,
   "metadata": {},
   "outputs": [
    {
     "name": "stdout",
     "output_type": "stream",
     "text": [
      "Batch 1 completed\n",
      "Batch 2 completed\n",
      "Batch 3 completed\n",
      "Batch 4 completed\n"
     ]
    }
   ],
   "source": [
    "#accessing the data in 4 batches as required by URA API\n",
    "for i in range(1,5):\n",
    "    #requesting data by passing in access key and token, in 4 batches as stated in URA API website\n",
    "    req = requests.get('https://www.ura.gov.sg/uraDataService/invokeUraDS?service=PMI_Resi_Transaction&batch=' + str(i),\n",
    "                      headers={\"AccessKey\":ura_access_key, \"Token\":token})\n",
    "    \n",
    "    df_temp = pd.json_normalize(req.json()['Result'], 'transaction', ['street','x','y','project'],errors='ignore')\n",
    "\n",
    "    #adding each batch to DataFrame\n",
    "    if i==1:\n",
    "        df = df_temp\n",
    "    else:\n",
    "        df = df.append(df_temp, ignore_index=True) #ignore index so that append can be done\n",
    "    \n",
    "    #printing the progress for monitoring\n",
    "    print('Batch ' + str(i) + ' completed')"
   ]
  },
  {
   "cell_type": "code",
   "execution_count": 4,
   "metadata": {},
   "outputs": [
    {
     "name": "stdout",
     "output_type": "stream",
     "text": [
      "<class 'pandas.core.frame.DataFrame'>\n",
      "RangeIndex: 113032 entries, 0 to 113031\n",
      "Data columns (total 15 columns):\n",
      " #   Column        Non-Null Count   Dtype \n",
      "---  ------        --------------   ----- \n",
      " 0   area          113032 non-null  object\n",
      " 1   floorRange    113032 non-null  object\n",
      " 2   noOfUnits     113032 non-null  object\n",
      " 3   contractDate  113032 non-null  object\n",
      " 4   typeOfSale    113032 non-null  object\n",
      " 5   price         113032 non-null  object\n",
      " 6   propertyType  113032 non-null  object\n",
      " 7   district      113032 non-null  object\n",
      " 8   typeOfArea    113032 non-null  object\n",
      " 9   tenure        113032 non-null  object\n",
      " 10  nettPrice     1137 non-null    object\n",
      " 11  street        113032 non-null  object\n",
      " 12  x             88177 non-null   object\n",
      " 13  y             88177 non-null   object\n",
      " 14  project       113032 non-null  object\n",
      "dtypes: object(15)\n",
      "memory usage: 12.9+ MB\n"
     ]
    }
   ],
   "source": [
    "df.info()"
   ]
  },
  {
   "cell_type": "code",
   "execution_count": 5,
   "metadata": {},
   "outputs": [],
   "source": [
    "#saving raw data to local drive\n",
    "df.to_csv(\"./ura_caveats_2015-11 to 2020-10 raw data.csv\")"
   ]
  },
  {
   "cell_type": "code",
   "execution_count": 22,
   "metadata": {},
   "outputs": [],
   "source": [
    "#making copy of df\n",
    "df1 = df.copy()\n",
    "\n",
    "#performing basic tidying up\n",
    "\n",
    "#nett price is final selling price, hence will replace price if nettprice is not null\n",
    "df1.loc[df1['nettPrice'].notnull(),'price'] = df1.loc[df1['nettPrice'].notnull(),'nettPrice']\n",
    "\n",
    "#remove nettprice and geo-coordinates\n",
    "df1 = df1.drop(['nettPrice','x','y'],axis=1)\n",
    "\n",
    "#convert area to sq feet, and type float\n",
    "df1.area = df1.area.astype('float') * 10.76\n",
    "\n",
    "#convert data types of various columns\n",
    "df1 = df1.astype({'area':'int32','noOfUnits':'int32','floorRange':'category','typeOfSale':'category',\n",
    "                  'propertyType':'category','district':'category','typeOfArea':'category',\n",
    "                  'tenure':'str'})\n",
    "\n",
    "#forcing to numeric before changing to int type\n",
    "df1.price = pd.to_numeric(df1.price, errors='coerce').astype('int')"
   ]
  },
  {
   "cell_type": "code",
   "execution_count": 23,
   "metadata": {},
   "outputs": [
    {
     "name": "stdout",
     "output_type": "stream",
     "text": [
      "<class 'pandas.core.frame.DataFrame'>\n",
      "RangeIndex: 113032 entries, 0 to 113031\n",
      "Data columns (total 13 columns):\n",
      " #   Column          Non-Null Count   Dtype    \n",
      "---  ------          --------------   -----    \n",
      " 0   area            113032 non-null  int32    \n",
      " 1   floorRange      113032 non-null  category \n",
      " 2   noOfUnits       113032 non-null  int32    \n",
      " 3   contractDate    113032 non-null  period[M]\n",
      " 4   typeOfSale      113032 non-null  category \n",
      " 5   price           113032 non-null  int32    \n",
      " 6   propertyType    113032 non-null  category \n",
      " 7   district        113032 non-null  category \n",
      " 8   typeOfArea      113032 non-null  category \n",
      " 9   tenure          113032 non-null  object   \n",
      " 10  street          113032 non-null  object   \n",
      " 11  project         113032 non-null  object   \n",
      " 12  Unit Price psf  113032 non-null  int32    \n",
      "dtypes: category(5), int32(4), object(3), period[M](1)\n",
      "memory usage: 5.7+ MB\n",
      "None\n"
     ]
    },
    {
     "data": {
      "text/html": [
       "<div>\n",
       "<style scoped>\n",
       "    .dataframe tbody tr th:only-of-type {\n",
       "        vertical-align: middle;\n",
       "    }\n",
       "\n",
       "    .dataframe tbody tr th {\n",
       "        vertical-align: top;\n",
       "    }\n",
       "\n",
       "    .dataframe thead th {\n",
       "        text-align: right;\n",
       "    }\n",
       "</style>\n",
       "<table border=\"1\" class=\"dataframe\">\n",
       "  <thead>\n",
       "    <tr style=\"text-align: right;\">\n",
       "      <th></th>\n",
       "      <th>area</th>\n",
       "      <th>floorRange</th>\n",
       "      <th>noOfUnits</th>\n",
       "      <th>contractDate</th>\n",
       "      <th>typeOfSale</th>\n",
       "      <th>price</th>\n",
       "      <th>propertyType</th>\n",
       "      <th>district</th>\n",
       "      <th>typeOfArea</th>\n",
       "      <th>tenure</th>\n",
       "      <th>street</th>\n",
       "      <th>project</th>\n",
       "      <th>Unit Price psf</th>\n",
       "    </tr>\n",
       "  </thead>\n",
       "  <tbody>\n",
       "    <tr>\n",
       "      <th>0</th>\n",
       "      <td>5641</td>\n",
       "      <td>-</td>\n",
       "      <td>1</td>\n",
       "      <td>2020-02</td>\n",
       "      <td>3</td>\n",
       "      <td>5500000</td>\n",
       "      <td>Semi-detached</td>\n",
       "      <td>05</td>\n",
       "      <td>Land</td>\n",
       "      <td>Freehold</td>\n",
       "      <td>ZEHNDER ROAD</td>\n",
       "      <td>LANDED HOUSING DEVELOPMENT</td>\n",
       "      <td>975</td>\n",
       "    </tr>\n",
       "    <tr>\n",
       "      <th>1</th>\n",
       "      <td>3314</td>\n",
       "      <td>-</td>\n",
       "      <td>1</td>\n",
       "      <td>2018-09</td>\n",
       "      <td>3</td>\n",
       "      <td>5000000</td>\n",
       "      <td>Semi-detached</td>\n",
       "      <td>05</td>\n",
       "      <td>Land</td>\n",
       "      <td>Freehold</td>\n",
       "      <td>ZEHNDER ROAD</td>\n",
       "      <td>LANDED HOUSING DEVELOPMENT</td>\n",
       "      <td>1508</td>\n",
       "    </tr>\n",
       "    <tr>\n",
       "      <th>2</th>\n",
       "      <td>3378</td>\n",
       "      <td>-</td>\n",
       "      <td>1</td>\n",
       "      <td>2018-06</td>\n",
       "      <td>3</td>\n",
       "      <td>4750000</td>\n",
       "      <td>Semi-detached</td>\n",
       "      <td>05</td>\n",
       "      <td>Land</td>\n",
       "      <td>Freehold</td>\n",
       "      <td>ZEHNDER ROAD</td>\n",
       "      <td>LANDED HOUSING DEVELOPMENT</td>\n",
       "      <td>1406</td>\n",
       "    </tr>\n",
       "    <tr>\n",
       "      <th>3</th>\n",
       "      <td>1714</td>\n",
       "      <td>-</td>\n",
       "      <td>1</td>\n",
       "      <td>2020-03</td>\n",
       "      <td>3</td>\n",
       "      <td>2630000</td>\n",
       "      <td>Terrace</td>\n",
       "      <td>05</td>\n",
       "      <td>Land</td>\n",
       "      <td>Freehold</td>\n",
       "      <td>NEO PEE TECK LANE</td>\n",
       "      <td>LANDED HOUSING DEVELOPMENT</td>\n",
       "      <td>1534</td>\n",
       "    </tr>\n",
       "    <tr>\n",
       "      <th>4</th>\n",
       "      <td>2431</td>\n",
       "      <td>01-05</td>\n",
       "      <td>1</td>\n",
       "      <td>2020-09</td>\n",
       "      <td>3</td>\n",
       "      <td>3400000</td>\n",
       "      <td>Condominium</td>\n",
       "      <td>04</td>\n",
       "      <td>Strata</td>\n",
       "      <td>99 yrs lease commencing from 2007</td>\n",
       "      <td>COVE DRIVE</td>\n",
       "      <td>TURQUOISE</td>\n",
       "      <td>1398</td>\n",
       "    </tr>\n",
       "  </tbody>\n",
       "</table>\n",
       "</div>"
      ],
      "text/plain": [
       "   area floorRange  noOfUnits contractDate typeOfSale    price   propertyType  \\\n",
       "0  5641          -          1      2020-02          3  5500000  Semi-detached   \n",
       "1  3314          -          1      2018-09          3  5000000  Semi-detached   \n",
       "2  3378          -          1      2018-06          3  4750000  Semi-detached   \n",
       "3  1714          -          1      2020-03          3  2630000        Terrace   \n",
       "4  2431      01-05          1      2020-09          3  3400000    Condominium   \n",
       "\n",
       "  district typeOfArea                             tenure             street  \\\n",
       "0       05       Land                           Freehold       ZEHNDER ROAD   \n",
       "1       05       Land                           Freehold       ZEHNDER ROAD   \n",
       "2       05       Land                           Freehold       ZEHNDER ROAD   \n",
       "3       05       Land                           Freehold  NEO PEE TECK LANE   \n",
       "4       04     Strata  99 yrs lease commencing from 2007         COVE DRIVE   \n",
       "\n",
       "                      project  Unit Price psf  \n",
       "0  LANDED HOUSING DEVELOPMENT             975  \n",
       "1  LANDED HOUSING DEVELOPMENT            1508  \n",
       "2  LANDED HOUSING DEVELOPMENT            1406  \n",
       "3  LANDED HOUSING DEVELOPMENT            1534  \n",
       "4                   TURQUOISE            1398  "
      ]
     },
     "metadata": {},
     "output_type": "display_data"
    }
   ],
   "source": [
    "#create new column to hold calculated psf price\n",
    "df1['Unit Price psf'] = (df1['price']/df1['area']).astype('int')\n",
    "\n",
    "#tidy up contract date to proper pandas datetime format\n",
    "df1.contractDate = pd.to_datetime(df1.contractDate, format='%m%y').dt.to_period('M')\n",
    "\n",
    "print(df1.info())\n",
    "display(df1.head())"
   ]
  },
  {
   "cell_type": "code",
   "execution_count": 24,
   "metadata": {},
   "outputs": [],
   "source": [
    "#display(df[df['project'].str.contains('CARIBBEAN')].head(20))"
   ]
  },
  {
   "cell_type": "code",
   "execution_count": 25,
   "metadata": {},
   "outputs": [
    {
     "name": "stdout",
     "output_type": "stream",
     "text": [
      "Counter({'01-05': 36302, '06-10': 26890, '11-15': 19277, '-': 11504, '16-20': 8992, '21-25': 4161, '26-30': 2619, '31-35': 1827, '36-40': 875, '41-45': 307, '46-50': 116, '51-55': 62, '56-60': 36, '61-65': 26, '66-70': 21, 'B1-B5': 13, '71-75': 4})\n",
      "Counter({'3': 57168, '1': 54195, '2': 1669})\n",
      "Counter({'Condominium': 51076, 'Apartment': 37418, 'Executive Condominium': 13096, 'Terrace': 5419, 'Semi-detached': 3097, 'Detached': 1408, 'Strata Terrace': 1187, 'Strata Semi-detached': 254, 'Strata Detached': 77})\n",
      "Counter({'19': 17394, '15': 8012, '18': 6937, '23': 6884, '05': 6845, '03': 6584, '14': 6490, '10': 6105, '27': 5800, '09': 5159, '16': 4334, '13': 4065, '20': 3918, '21': 3646, '11': 2961, '28': 2960, '12': 2722, '22': 2553, '17': 1677, '25': 1602, '04': 1338, '08': 1244, '01': 1037, '02': 986, '07': 899, '26': 875, '06': 5})\n",
      "Counter({'Strata': 103089, 'Land': 9943})\n"
     ]
    }
   ],
   "source": [
    "print(Counter(df1.floorRange))\n",
    "print(Counter(df1.typeOfSale))\n",
    "print(Counter(df1.propertyType))\n",
    "print(Counter(df1.district))\n",
    "print(Counter(df1.typeOfArea))"
   ]
  },
  {
   "cell_type": "code",
   "execution_count": 31,
   "metadata": {},
   "outputs": [
    {
     "name": "stdout",
     "output_type": "stream",
     "text": [
      "Counter({'Freehold': 32006, '99 yrs lease commencing from 2018': 12172, '99 yrs lease commencing from 2014': 8865, '99 yrs lease commencing from 2015': 7423, '99 yrs lease commencing from 2016': 5990, '99 yrs lease commencing from 2013': 5341, '99 yrs lease commencing from 2017': 4789, '99 yrs lease commencing from 2011': 4007, '99 yrs lease commencing from 2012': 3697, '99 yrs lease commencing from 2010': 3214, '99 yrs lease commencing from 2019': 2432, '99 yrs lease commencing from 1997': 2306, '99 yrs lease commencing from 2008': 1743, '99 yrs lease commencing from 1996': 1499, '99 yrs lease commencing from 1995': 1263, '99 yrs lease commencing from 2000': 1162, '99 yrs lease commencing from 2007': 1118, '99 yrs lease commencing from 2006': 959, '99 yrs lease commencing from 1994': 925, '99 yrs lease commencing from 2002': 811, '99 yrs lease commencing from 2001': 794, '99 yrs lease commencing from 1993': 739, '99 yrs lease commencing from 2009': 722, '99 yrs lease commencing from 1998': 615, '99 yrs lease commencing from 2004': 611, '99 yrs lease commencing from 1991': 580, '999 yrs lease commencing from 1885': 546, '999 yrs lease commencing from 1879': 472, '99 yrs lease commencing from 2005': 454, '99 yrs lease commencing from 1982': 446, '999 yrs lease commencing from 1877': 444, '999 yrs lease commencing from 1882': 338, '99 yrs lease commencing from 1999': 333, '956 yrs lease commencing from 1928': 252, '999 yrs lease commencing from 1883': 252, '99 yrs lease commencing from 1992': 248, '999 yrs lease commencing from 1876': 227, '999 yrs lease commencing from 1841': 202, '999 yrs lease commencing from 1875': 192, '999 yrs lease commencing from 1878': 182, '99 yrs lease commencing from 2003': 166, '99 yrs lease commencing from 1975': 161, '999 yrs lease commencing from 1886': 142, '999 yrs lease commencing from 1955': 136, '99 yrs lease commencing from 1977': 135, '999 yrs lease commencing from 1954': 122, '99 yrs lease commencing from 1976': 107, '99 yrs lease commencing from 1979': 99, '103 yrs lease commencing from 2009': 98, '60 yrs lease commencing from 2013': 76, '99 yrs lease commencing from 1968': 71, '999 yrs lease commencing from 1956': 70, '99 yrs lease commencing from 1980': 66, '99 yrs lease commencing from 1990': 65, '999 yrs lease commencing from 1884': 64, '99 yrs lease commencing from 1970': 62, '99 yrs lease commencing from 1984': 62, '946 yrs lease commencing from 1938': 57, '103 yrs lease commencing from 2002': 54, '100 yrs lease commencing from 1986': 51, '929 yrs lease commencing from 1953': 44, '999 yrs lease commencing from 1953': 41, '70 yrs lease commencing from 1964': 39, '99 yrs lease commencing from 1983': 38, '99 yrs lease commencing from 1981': 34, '999 yrs lease commencing from 1827': 33, '999 yrs lease commencing from 1995': 31, '99 yrs lease commencing from 1973': 29, '999 yrs lease commencing from 1874': 28, '101 yrs lease commencing from 1985': 24, '999 yrs lease commencing from 1881': 23, '103 yrs lease commencing from 1985': 23, '110 yrs lease commencing from 2017': 22, '947 yrs lease commencing from 1937': 22, '946 yrs lease commencing from 1937': 22, '102 yrs lease commencing from 1996': 21, '99 yrs lease commencing from 1978': 20, '102 yrs lease commencing from 1978': 20, '99 yrs lease commencing from 1947': 18, '99 years leasehold': 15, '103 yrs lease commencing from 2008': 14, '102 yrs lease commencing from 1986': 14, '99 yrs lease commencing from 1969': 13, '947 yrs lease commencing from 1934': 12, '99 yrs lease commencing from 1952': 11, '103 yrs lease commencing from 1974': 10, '102 yrs lease commencing from 1977': 9, '9999 yrs lease commencing from 1961': 9, '99 yrs lease commencing from 1965': 9, '9999 yrs lease commencing from 1995': 9, '103 yrs lease commencing from 2013': 9, '85 yrs lease commencing from 1990': 8, '103 yrs lease commencing from 2010': 7, '60 yrs lease commencing from 1961': 7, '999 yrs lease commencing from 1991': 7, '999 yrs lease commencing from 1966': 6, '103 yrs lease commencing from 1975': 5, '104 yrs lease commencing from 1986': 5, '999 yrs lease commencing from 1958': 4, 'NA': 4, '89 yrs lease commencing from 1979': 3, '99 yrs lease commencing from 1972': 3, '9999 yrs lease commencing from 1957': 3, '999 yrs lease commencing from 1957': 3, '110 Yrs From 01/11/2017': 3, '999 yrs lease commencing from 1967': 3, '993 yrs lease commencing from 1973': 3, '999 yrs lease commencing from 1965': 3, '99 yrs lease commencing from 1949': 3, '998 yrs lease commencing from 1885': 3, '999 yrs lease commencing from 1968': 2, '999999 yrs lease commencing from 1958': 2, '9999 yrs lease commencing from 1960': 2, '99 yrs lease commencing from 1987': 2, '103 yrs lease commencing from 1977': 2, '999 yrs lease commencing from 1964': 2, '945 yrs lease commencing from 1936': 2, '999 yrs lease commencing from 1959': 2, '999 yrs lease commencing from 2012': 2, '99 yrs lease commencing from 1954': 2, '9999 yrs lease commencing from 1963': 1, '999 yrs lease commencing from 1835': 1, '93 yrs lease commencing from 1979': 1, '97 yrs lease commencing from 1980': 1, '9999 yrs lease commencing from 1964': 1, '103 yrs lease commencing from 2011': 1, '999 yrs lease commencing from 1979': 1, '9999 yrs lease commencing from 1965': 1, '9999 yrs lease commencing from 1966': 1, '999999 yrs lease commencing from 1960': 1, '999 yrs lease commencing from 1919': 1, '999999 yrs lease commencing from 1963': 1, '99 yrs lease commencing from 1957': 1, '999999 yrs lease commencing from 1959': 1, '9999 yrs lease commencing from 2004': 1, '999 yrs lease commencing from 1990': 1, '999999 yrs lease commencing from 1993': 1, '999 yrs lease commencing from 1972': 1, '9999 yrs lease commencing from 1991': 1, '999 yrs lease commencing from 2019': 1, '99 yrs lease commencing from 1960': 1, '60 yrs lease commencing from 1977': 1, '999 yrs lease commencing from 1985': 1, '999 yrs lease commencing from 1986': 1, '99 yrs lease commencing from 1951': 1, '999 yrs lease commencing from 1982': 1, '940 yrs lease commencing from 1941': 1, '99 yrs lease commencing from 1986': 1})\n"
     ]
    }
   ],
   "source": [
    "print(Counter(df1.tenure))"
   ]
  },
  {
   "cell_type": "code",
   "execution_count": 33,
   "metadata": {},
   "outputs": [
    {
     "ename": "ValueError",
     "evalue": "invalid literal for int() with base 10: 'hold'",
     "output_type": "error",
     "traceback": [
      "\u001b[1;31m---------------------------------------------------------------------------\u001b[0m",
      "\u001b[1;31mValueError\u001b[0m                                Traceback (most recent call last)",
      "\u001b[1;32m<ipython-input-33-33caa1706c21>\u001b[0m in \u001b[0;36m<module>\u001b[1;34m\u001b[0m\n\u001b[0;32m      3\u001b[0m \u001b[1;32mfor\u001b[0m \u001b[0mi\u001b[0m \u001b[1;32min\u001b[0m \u001b[0mrange\u001b[0m\u001b[1;33m(\u001b[0m\u001b[0mdf\u001b[0m\u001b[1;33m.\u001b[0m\u001b[0mshape\u001b[0m\u001b[1;33m[\u001b[0m\u001b[1;36m0\u001b[0m\u001b[1;33m]\u001b[0m\u001b[1;33m)\u001b[0m\u001b[1;33m:\u001b[0m\u001b[1;33m\u001b[0m\u001b[1;33m\u001b[0m\u001b[0m\n\u001b[0;32m      4\u001b[0m     \u001b[1;32mif\u001b[0m \u001b[1;33m(\u001b[0m\u001b[0mdf\u001b[0m\u001b[1;33m.\u001b[0m\u001b[0mloc\u001b[0m\u001b[1;33m[\u001b[0m\u001b[0mi\u001b[0m\u001b[1;33m,\u001b[0m\u001b[1;34m'tenure'\u001b[0m\u001b[1;33m]\u001b[0m\u001b[1;33m[\u001b[0m\u001b[1;36m0\u001b[0m\u001b[1;33m:\u001b[0m\u001b[1;36m3\u001b[0m\u001b[1;33m]\u001b[0m \u001b[1;33m==\u001b[0m \u001b[1;34m'99 '\u001b[0m\u001b[1;33m)\u001b[0m\u001b[1;33m:\u001b[0m\u001b[1;33m\u001b[0m\u001b[1;33m\u001b[0m\u001b[0m\n\u001b[1;32m----> 5\u001b[1;33m         \u001b[0mdf\u001b[0m\u001b[1;33m.\u001b[0m\u001b[0mloc\u001b[0m\u001b[1;33m[\u001b[0m\u001b[0mi\u001b[0m\u001b[1;33m,\u001b[0m\u001b[1;34m'lease left'\u001b[0m\u001b[1;33m]\u001b[0m \u001b[1;33m=\u001b[0m \u001b[1;36m99\u001b[0m \u001b[1;33m-\u001b[0m \u001b[0mthis_year\u001b[0m \u001b[1;33m+\u001b[0m \u001b[0mint\u001b[0m\u001b[1;33m(\u001b[0m\u001b[0mdf\u001b[0m\u001b[1;33m.\u001b[0m\u001b[0mloc\u001b[0m\u001b[1;33m[\u001b[0m\u001b[0mi\u001b[0m\u001b[1;33m,\u001b[0m\u001b[1;34m'tenure'\u001b[0m\u001b[1;33m]\u001b[0m\u001b[1;33m[\u001b[0m\u001b[1;33m-\u001b[0m\u001b[1;36m4\u001b[0m\u001b[1;33m:\u001b[0m\u001b[1;33m]\u001b[0m\u001b[1;33m)\u001b[0m\u001b[1;33m\u001b[0m\u001b[1;33m\u001b[0m\u001b[0m\n\u001b[0m\u001b[0;32m      6\u001b[0m     \u001b[1;32melif\u001b[0m \u001b[1;33m(\u001b[0m\u001b[0mdf\u001b[0m\u001b[1;33m.\u001b[0m\u001b[0mloc\u001b[0m\u001b[1;33m[\u001b[0m\u001b[0mi\u001b[0m\u001b[1;33m,\u001b[0m\u001b[1;34m'tenure'\u001b[0m\u001b[1;33m]\u001b[0m\u001b[1;33m[\u001b[0m\u001b[1;36m0\u001b[0m\u001b[1;33m:\u001b[0m\u001b[1;36m3\u001b[0m\u001b[1;33m]\u001b[0m \u001b[1;33m==\u001b[0m \u001b[1;34m'10'\u001b[0m\u001b[1;33m)\u001b[0m\u001b[1;33m:\u001b[0m\u001b[1;33m\u001b[0m\u001b[1;33m\u001b[0m\u001b[0m\n\u001b[0;32m      7\u001b[0m         \u001b[0mdf\u001b[0m\u001b[1;33m.\u001b[0m\u001b[0mloc\u001b[0m\u001b[1;33m[\u001b[0m\u001b[0mi\u001b[0m\u001b[1;33m,\u001b[0m\u001b[1;34m'lease left'\u001b[0m\u001b[1;33m]\u001b[0m \u001b[1;33m=\u001b[0m \u001b[0mint\u001b[0m\u001b[1;33m(\u001b[0m\u001b[0mdf\u001b[0m\u001b[1;33m.\u001b[0m\u001b[0mloc\u001b[0m\u001b[1;33m[\u001b[0m\u001b[0mi\u001b[0m\u001b[1;33m,\u001b[0m\u001b[1;34m'tenure'\u001b[0m\u001b[1;33m]\u001b[0m\u001b[1;33m[\u001b[0m\u001b[1;36m0\u001b[0m\u001b[1;33m:\u001b[0m\u001b[1;36m3\u001b[0m\u001b[1;33m]\u001b[0m\u001b[1;33m)\u001b[0m \u001b[1;33m-\u001b[0m \u001b[0mthis_year\u001b[0m \u001b[1;33m+\u001b[0m \u001b[0mint\u001b[0m\u001b[1;33m(\u001b[0m\u001b[0mdf\u001b[0m\u001b[1;33m.\u001b[0m\u001b[0mloc\u001b[0m\u001b[1;33m[\u001b[0m\u001b[0mi\u001b[0m\u001b[1;33m,\u001b[0m\u001b[1;34m'tenure'\u001b[0m\u001b[1;33m]\u001b[0m\u001b[1;33m[\u001b[0m\u001b[1;33m-\u001b[0m\u001b[1;36m4\u001b[0m\u001b[1;33m:\u001b[0m\u001b[1;33m]\u001b[0m\u001b[1;33m)\u001b[0m\u001b[1;33m\u001b[0m\u001b[1;33m\u001b[0m\u001b[0m\n",
      "\u001b[1;31mValueError\u001b[0m: invalid literal for int() with base 10: 'hold'"
     ]
    }
   ],
   "source": [
    "this_year = dt.date.today().year\n",
    "\n",
    "for i in range(df.shape[0]):\n",
    "    if (df.loc[i,'tenure'][0:3] == '99 '):\n",
    "        df.loc[i,'lease left'] = 99 - this_year + int(df.loc[i,'tenure'][-4:])\n",
    "    elif (df.loc[i,'tenure'][0:3] == '10'):\n",
    "        df.loc[i,'lease left'] = int(df.loc[i,'tenure'][0:3]) - this_year + int(df.loc[i,'tenure'][-4:])\n",
    "    else:\n",
    "        df.loc[i,'lease left'] = 999"
   ]
  },
  {
   "cell_type": "code",
   "execution_count": null,
   "metadata": {},
   "outputs": [],
   "source": [
    "df1.to_csv(\"d:/downloads/ura_caveats_2017-10 to 2020-09\")"
   ]
  },
  {
   "cell_type": "code",
   "execution_count": null,
   "metadata": {},
   "outputs": [],
   "source": [
    "df = pd.read_csv(\"d:/downloads/ura_caveats_2017-10 to 2020-09\", parse_dates=['contractDate'])"
   ]
  },
  {
   "cell_type": "code",
   "execution_count": null,
   "metadata": {},
   "outputs": [],
   "source": [
    "df.info()"
   ]
  },
  {
   "cell_type": "code",
   "execution_count": null,
   "metadata": {},
   "outputs": [],
   "source": [
    "df.loc[df.nettPrice.notnull(),'price'] = df.loc[df.nettPrice.notnull(),'nettPrice']\n",
    "display(df[df.nettPrice.notnull()].sample(10))"
   ]
  },
  {
   "cell_type": "code",
   "execution_count": null,
   "metadata": {},
   "outputs": [],
   "source": [
    "display(df.sample(10))"
   ]
  },
  {
   "cell_type": "code",
   "execution_count": null,
   "metadata": {},
   "outputs": [],
   "source": []
  }
 ],
 "metadata": {
  "kernelspec": {
   "display_name": "Python 3",
   "language": "python",
   "name": "python3"
  },
  "language_info": {
   "codemirror_mode": {
    "name": "ipython",
    "version": 3
   },
   "file_extension": ".py",
   "mimetype": "text/x-python",
   "name": "python",
   "nbconvert_exporter": "python",
   "pygments_lexer": "ipython3",
   "version": "3.8.3"
  }
 },
 "nbformat": 4,
 "nbformat_minor": 4
}
